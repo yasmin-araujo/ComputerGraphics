{
 "cells": [
  {
   "cell_type": "markdown",
   "metadata": {
    "id": "9yNkDC5Cm9E6"
   },
   "source": [
    "# Trabalho 1\n",
    "\n",
    "Bruna Magrini da Cruz, 11218813"
   ]
  },
  {
   "cell_type": "markdown",
   "metadata": {
    "id": "M5pgqttPnUXN",
    "jp-MarkdownHeadingCollapsed": true,
    "tags": []
   },
   "source": [
    "# Bibliotecas"
   ]
  },
  {
   "cell_type": "code",
   "execution_count": 1,
   "metadata": {
    "colab": {
     "base_uri": "https://localhost:8080/"
    },
    "id": "tFbbJm8anEAh",
    "outputId": "a5a7d1ab-cfab-4c91-c3a8-1da2e9d2de6e"
   },
   "outputs": [
    {
     "name": "stdout",
     "output_type": "stream",
     "text": [
      "Requirement already satisfied: glfw in /home/magrini/anaconda3/lib/python3.9/site-packages (2.5.7)\n"
     ]
    }
   ],
   "source": [
    "!pip install glfw"
   ]
  },
  {
   "cell_type": "code",
   "execution_count": 2,
   "metadata": {
    "id": "1iFK0co4m9E8"
   },
   "outputs": [],
   "source": [
    "import glfw\n",
    "from OpenGL.GL import *\n",
    "import OpenGL.GL.shaders\n",
    "import numpy as np"
   ]
  },
  {
   "cell_type": "markdown",
   "metadata": {
    "id": "--tZ6pb1m9E-",
    "jp-MarkdownHeadingCollapsed": true,
    "tags": []
   },
   "source": [
    "# Janela"
   ]
  },
  {
   "cell_type": "code",
   "execution_count": 3,
   "metadata": {
    "colab": {
     "base_uri": "https://localhost:8080/"
    },
    "id": "lpDklCUqm9E_",
    "outputId": "3373d60c-35ae-48cf-890b-143ead1a0984"
   },
   "outputs": [],
   "source": [
    "glfw.init()\n",
    "glfw.window_hint(glfw.VISIBLE, glfw.FALSE);\n",
    "window = glfw.create_window(720, 600, \"Cores\", None, None)\n",
    "glfw.make_context_current(window)"
   ]
  },
  {
   "cell_type": "markdown",
   "metadata": {
    "id": "G7jYYliAoH9O",
    "jp-MarkdownHeadingCollapsed": true,
    "tags": []
   },
   "source": [
    "# GLSL"
   ]
  },
  {
   "cell_type": "markdown",
   "metadata": {
    "id": "Z5xB4hscm9FA"
   },
   "source": [
    "### `GLSL` (*OpenGL Shading Language*)\n",
    "Aqui veremos nosso primeiro código `GLSL`.\n",
    "\n",
    "É uma linguagem de *shading* de alto nível baseada na linguagem de programação `C`.\n",
    "\n",
    "Estamos escrevendo código `GLSL` como *strings* de uma variável (mas podemos ler de arquivos texto). Esse código, depois, terá que ser compilado e linkado ao nosso programa. \n",
    "\n",
    "Aprenderemos `GLSL` conforme a necessidade do curso. Usaremos uma versão do `GLSL` mais antiga, compatível com muitos dispositivos.\n",
    "### `GLSL` para *Vertex Shader*\n",
    "No Pipeline programável, podemos interagir com *Vertex Shaders*.\n",
    "\n",
    "No código abaixo, estamos fazendo o seguinte:\n",
    "* Definindo uma variável chamada `position` do tipo `vec2`.\n",
    "* Definindo uma variável chamada `mat_transformation` do tipo `mat4` (matriz $4\\times4$).\n",
    "* Usamos `vec2`, pois nosso programa (na CPU) enviará apenas duas coordenadas para plotar um ponto. Podemos mandar três coordenadas (`vec3`) e até mesmo quatro coordenadas (`vec4`).\n",
    "* `void main()` é o ponto de entrada do nosso programa (função principal).\n",
    "* `gl_Position` é uma variável especial do `GLSL`. Variáveis que começam com `gl_` são desse tipo. Neste caso, determina a posição de um vértice. Observe que todo vértice tem $4$ coordenadas, por isso combinamos nossa variável `vec2` com uma variável `vec4`. Além disso, modificamos nosso vetor com base em uma matriz de transformação, conforme estudado na Aula 4."
   ]
  },
  {
   "cell_type": "code",
   "execution_count": 4,
   "metadata": {
    "id": "HbT7Qebdm9FB"
   },
   "outputs": [],
   "source": [
    "vertex_code = \"\"\"\n",
    "        attribute vec2 position;\n",
    "        uniform mat4 mat_transformation;\n",
    "        void main(){\n",
    "            gl_Position = mat_transformation * vec4(position,0.0,1.0);\n",
    "        }\n",
    "        \"\"\""
   ]
  },
  {
   "cell_type": "markdown",
   "metadata": {
    "id": "VHNEG9yim9FD"
   },
   "source": [
    "### `GLSL` para *Fragment Shader*\n",
    "No Pipeline programável, podemos interagir com *Fragment Shaders*.\n",
    "\n",
    "No código abaixo, estamos fazendo o seguinte:\n",
    "* `void main()` é o ponto de entrada do nosso programa (função principal).\n",
    "* `gl_FragColor` é uma variável especial do `GLSL`. Variáveis que começam com `gl_` são desse tipo. Neste caso, determina a cor de um fragmento.\n",
    "\n",
    "### Possibilitando modificar a cor\n",
    "Nos exemplos anteriores, a variável `gl_FragColor` estava definida de forma fixa (com cor $R=0$, $G=0$, $B=0$).\n",
    "\n",
    "Agora, criaremos uma variável do tipo `uniform`, de quatro posições (`vec4`), para receber o dado de cor do nosso programa rodando em CPU."
   ]
  },
  {
   "cell_type": "code",
   "execution_count": 5,
   "metadata": {
    "id": "T-VsZZojm9FE"
   },
   "outputs": [],
   "source": [
    "fragment_code = \"\"\"\n",
    "        uniform vec4 color;\n",
    "        void main(){\n",
    "            gl_FragColor = color;\n",
    "        }\n",
    "        \"\"\""
   ]
  },
  {
   "cell_type": "markdown",
   "metadata": {
    "id": "uwiGrKmwoTLA",
    "jp-MarkdownHeadingCollapsed": true,
    "tags": []
   },
   "source": [
    "# Compilação e Linkagem"
   ]
  },
  {
   "cell_type": "markdown",
   "metadata": {
    "id": "1ljEftllm9FF"
   },
   "source": [
    "### Requisitando slot para a GPU para nossos programas *Vertex* e *Fragment Shaders*"
   ]
  },
  {
   "cell_type": "code",
   "execution_count": 6,
   "metadata": {
    "id": "9zY3tpRvm9FH"
   },
   "outputs": [],
   "source": [
    "# Request a program and shader slots from GPU\n",
    "program  = glCreateProgram()\n",
    "vertex   = glCreateShader(GL_VERTEX_SHADER)\n",
    "fragment = glCreateShader(GL_FRAGMENT_SHADER)"
   ]
  },
  {
   "cell_type": "markdown",
   "metadata": {
    "id": "Z8jb_9jDm9FI"
   },
   "source": [
    "### Associando nosso código-fonte aos slots solicitados"
   ]
  },
  {
   "cell_type": "code",
   "execution_count": 7,
   "metadata": {
    "id": "O0EA8LvCm9FI"
   },
   "outputs": [],
   "source": [
    "# Set shaders source\n",
    "glShaderSource(vertex, vertex_code)\n",
    "glShaderSource(fragment, fragment_code)"
   ]
  },
  {
   "cell_type": "markdown",
   "metadata": {
    "id": "kW9lPdAym9FJ"
   },
   "source": [
    "### Compilando o *Vertex Shader*\n",
    "Se há algum erro em nosso programa *Vertex Shader*, nosso app para por aqui."
   ]
  },
  {
   "cell_type": "code",
   "execution_count": 8,
   "metadata": {
    "id": "QLSOy8-3m9FJ"
   },
   "outputs": [],
   "source": [
    "# Compile shaders\n",
    "glCompileShader(vertex)\n",
    "if not glGetShaderiv(vertex, GL_COMPILE_STATUS):\n",
    "    error = glGetShaderInfoLog(vertex).decode()\n",
    "    print(error)\n",
    "    raise RuntimeError(\"Erro de compilacao do Vertex Shader\")"
   ]
  },
  {
   "cell_type": "markdown",
   "metadata": {
    "id": "Y0MAJBd8m9FK"
   },
   "source": [
    "### Compilando o *Fragment Shader*\n",
    "Se há algum erro em nosso programa *Fragment Shader*, nosso app para por aqui."
   ]
  },
  {
   "cell_type": "code",
   "execution_count": 9,
   "metadata": {
    "id": "Ut9S-mL9m9FK"
   },
   "outputs": [],
   "source": [
    "glCompileShader(fragment)\n",
    "if not glGetShaderiv(fragment, GL_COMPILE_STATUS):\n",
    "    error = glGetShaderInfoLog(fragment).decode()\n",
    "    print(error)\n",
    "    raise RuntimeError(\"Erro de compilacao do Fragment Shader\")"
   ]
  },
  {
   "cell_type": "markdown",
   "metadata": {
    "id": "9I49xUwBm9FL"
   },
   "source": [
    "### Associando os programas compilados ao programa principal"
   ]
  },
  {
   "cell_type": "code",
   "execution_count": 10,
   "metadata": {
    "id": "HI1POTeWm9FM"
   },
   "outputs": [],
   "source": [
    "# Attach shader objects to the program\n",
    "glAttachShader(program, vertex)\n",
    "glAttachShader(program, fragment)"
   ]
  },
  {
   "cell_type": "markdown",
   "metadata": {
    "id": "Bbw8Hbtfm9FM"
   },
   "source": [
    "### Linkagem do programa"
   ]
  },
  {
   "cell_type": "code",
   "execution_count": 11,
   "metadata": {
    "colab": {
     "base_uri": "https://localhost:8080/",
     "height": 254
    },
    "id": "CbiWM3W5m9FN",
    "outputId": "c4172bb4-c110-4e4d-bb46-ba3ac1b180e5"
   },
   "outputs": [],
   "source": [
    "# Build program\n",
    "glLinkProgram(program)\n",
    "if not glGetProgramiv(program, GL_LINK_STATUS):\n",
    "    print(glGetProgramInfoLog(program))\n",
    "    raise RuntimeError('Linking error')\n",
    "    \n",
    "# Make program the default program\n",
    "glUseProgram(program)"
   ]
  },
  {
   "cell_type": "markdown",
   "metadata": {
    "id": "SbrJ2EYHoaLS"
   },
   "source": [
    "# Definição de Elementos"
   ]
  },
  {
   "cell_type": "markdown",
   "metadata": {
    "id": "0UCJ7Gh_m9FN"
   },
   "source": [
    "### Preparando dados para enviar a GPU\n",
    "Nesse momento, compilamos nossos *Vertex* e *Fragment Shaders* para que a GPU possa processá-los.\n",
    "\n",
    "Por outro lado, as informações de vértices geralmente estão na CPU e devem ser transmitidas para a GPU."
   ]
  },
  {
   "cell_type": "code",
   "execution_count": 12,
   "metadata": {
    "id": "26upvfGAm9FN"
   },
   "outputs": [],
   "source": [
    "# preparando espaço para 3 vértices usando 2 coordenadas (x,y)\n",
    "vertices = np.zeros(114, [(\"position\", np.float32, 2)])\n",
    "\n",
    "# preenchendo as coordenadas de cada vértice\n",
    "vertices['position'] = [\n",
    "#--------------Flor 1--------------#\n",
    "    # Meio\n",
    "    (-0.01, +0.1),\n",
    "    (+0.08, +0.02),\n",
    "    (-0.08, 0), \n",
    "    (+0.02, -0.07),\n",
    "    # Petala 1\n",
    "    (-0.01, +0.1),\n",
    "    (+0.16, +0.29), \n",
    "    (-0.13, +0.32),\n",
    "    # Petala 2\n",
    "    (+0.28, +0.29),\n",
    "    (+0.04, +0.05), \n",
    "    (+0.31, +0.07),\n",
    "    # Petala 3\n",
    "    (+0.33, -0.06),\n",
    "    (+0.06, -0.03), \n",
    "    (+0.2, -0.28), \n",
    "    # Petala 4\n",
    "    (+0.02, -0.07),\n",
    "    (-0.07, -0.24), \n",
    "    (+0.13, -0.31), \n",
    "    # Petala 5\n",
    "    (-0.05, -0.03),\n",
    "    (-0.2, -0.25), \n",
    "    (-0.34, -0.07), \n",
    "    # Petala 6\n",
    "    (-0.36, +0.06),\n",
    "    (-0.05, +0.05), \n",
    "    (-0.2, +0.2), \n",
    "\n",
    "#--------------Flor 2--------------#\n",
    "    # Meio\n",
    "    (0, +0.1),\n",
    "    (+0.08, +0.05),\n",
    "    (+0.08, -0.04), \n",
    "    (0, -0.09),\n",
    "    (-0.08, -0.04),\n",
    "    (-0.08, +0.05),\n",
    "    (0, +0.1),\n",
    "    # Petala 1\n",
    "    (0, +0.1),\n",
    "    (0, +0.19), \n",
    "    (+0.08, +0.24),\n",
    "    (+0.16, +0.19),\n",
    "    (+0.16, +0.1),\n",
    "    (+0.08, +0.05),\n",
    "    (0, +0.1),\n",
    "    # Petala 2\n",
    "    (+0.08, +0.05),\n",
    "    (+0.16, +0.1), \n",
    "    (+0.24, +0.06),\n",
    "    (+0.24, -0.04),\n",
    "    (+0.16, -0.09),\n",
    "    (+0.08, -0.04), \n",
    "    (+0.08, +0.05),\n",
    "    # Petala 3\n",
    "    (+0.08, -0.04), \n",
    "    (+0.16, -0.09),\n",
    "    (+0.16, -0.18),\n",
    "    (+0.08, -0.23),\n",
    "    (0, -0.18),\n",
    "    (0, -0.09),\n",
    "    (+0.08, -0.04),         \n",
    "    # Petala 4\n",
    "    (0, -0.09),\n",
    "    (0, -0.18),\n",
    "    (-0.08, -0.22),\n",
    "    (-0.16, -0.18),\n",
    "    (-0.16, -0.09),\n",
    "    (-0.08, -0.04), \n",
    "    (0, -0.09),\n",
    "    # Petala 5\n",
    "    (-0.08, -0.04),\n",
    "    (-0.16, -0.09),\n",
    "    (-0.24, -0.04),\n",
    "    (-0.24, +0.05),\n",
    "    (-0.16, +0.1),\n",
    "    (-0.08, +0.05),\n",
    "    (-0.08, -0.04),\n",
    "    # Petala 6\n",
    "    (-0.08, +0.05),\n",
    "    (-0.16, +0.1),\n",
    "    (-0.16, +0.19),\n",
    "    (-0.08, +0.24),\n",
    "    (0, +0.19),\n",
    "    (0, +0.1),\n",
    "    (-0.08, +0.05),\n",
    "    \n",
    "#--------------Flor 3--------------#\n",
    "    # Meio\n",
    "    (0, +0.1),\n",
    "    (+0.07, +0.06),\n",
    "    (+0.07, -0.02), \n",
    "    (0, -0.06),\n",
    "    (-0.07, -0.02),\n",
    "    (-0.07, +0.06),\n",
    "    (0, +0.1),\n",
    "    # Petala 1\n",
    "    (+0.01, +0.12),\n",
    "    (+0.03, +0.2),\n",
    "    (+0.11, +0.2),\n",
    "    (+0.14, +0.13),\n",
    "    (+0.08, 0.08),\n",
    "    (+0.01, +0.12),\n",
    "    # Petala 2\n",
    "    (+0.09, +0.06),\n",
    "    (+0.17, +0.09),\n",
    "    (+0.21, +0.02),\n",
    "    (+0.17, -0.04),\n",
    "    (+0.09, -0.02),\n",
    "    (+0.09, +0.06),\n",
    "    # Petala 3 \n",
    "    (+0.09, -0.04),\n",
    "    (+0.15, -0.09),\n",
    "    (+0.12, -0.17),\n",
    "    (+0.03, -0.16),\n",
    "    (+0.01, -0.08),\n",
    "    (+0.09, -0.04),\n",
    "    # Petala 4\n",
    "    (-0.01, -0.08),\n",
    "    (-0.03, -0.17),\n",
    "    (-0.11, -0.17),\n",
    "    (-0.15, -0.1),\n",
    "    (-0.08, -0.04),\n",
    "    (-0.01, -0.08),\n",
    "    # Petala 5\n",
    "    (-0.09, -0.02),\n",
    "    (-0.18, -0.05),\n",
    "    (-0.22, +0.02),\n",
    "    (-0.17, +0.09),\n",
    "    (-0.09, +0.06),\n",
    "    (-0.09, -0.02),\n",
    "    # Petala 6\n",
    "    (-0.09, +0.07),\n",
    "    (-0.15, +0.13),\n",
    "    (-0.11, +0.21),\n",
    "    (-0.03, +0.2),\n",
    "    (-0.01, 0.11),\n",
    "    (-0.09, +0.07),\n",
    "]"
   ]
  },
  {
   "cell_type": "markdown",
   "metadata": {
    "id": "Atx-tF6im9FO"
   },
   "source": [
    "### Para enviar nossos dados da CPU para a GPU, precisamos requisitar um slot."
   ]
  },
  {
   "cell_type": "code",
   "execution_count": 13,
   "metadata": {
    "id": "8Tev4mxfm9FP"
   },
   "outputs": [],
   "source": [
    "# Request a buffer slot from GPU\n",
    "buffer = glGenBuffers(1)\n",
    "# Make this buffer the default one\n",
    "glBindBuffer(GL_ARRAY_BUFFER, buffer)"
   ]
  },
  {
   "cell_type": "markdown",
   "metadata": {
    "id": "_wMZ10SDm9FP"
   },
   "source": [
    "### Abaixo, enviamos todo o conteúdo da variável `vertices`.\n",
    "Veja os parâmetros da função `glBufferData` [https://www.khronos.org/registry/OpenGL-Refpages/gl4/html/glBufferData.xhtml]"
   ]
  },
  {
   "cell_type": "code",
   "execution_count": 14,
   "metadata": {
    "id": "Q123w5dkm9FP"
   },
   "outputs": [],
   "source": [
    "# Upload data\n",
    "glBufferData(GL_ARRAY_BUFFER, vertices.nbytes, vertices, GL_DYNAMIC_DRAW)\n",
    "glBindBuffer(GL_ARRAY_BUFFER, buffer)"
   ]
  },
  {
   "cell_type": "markdown",
   "metadata": {
    "id": "Ux27BB8jm9FQ"
   },
   "source": [
    "### Associando variáveis do programa `GLSL` (*Vertex Shaders*) com nossos dados\n",
    "Primeiro, definimos o byte inicial e o offset dos dados."
   ]
  },
  {
   "cell_type": "code",
   "execution_count": 15,
   "metadata": {
    "id": "xogg8rA6m9FQ"
   },
   "outputs": [],
   "source": [
    "# Bind the position attribute\n",
    "# --------------------------------------\n",
    "stride = vertices.strides[0]\n",
    "offset = ctypes.c_void_p(0)"
   ]
  },
  {
   "cell_type": "markdown",
   "metadata": {
    "id": "B41U0lRCm9FQ"
   },
   "source": [
    "Em seguida, soliciamos à GPU a localização da variável `position` (que guarda coordenadas dos nossos vértices). Definimos essa variável no *Vertex Shader*."
   ]
  },
  {
   "cell_type": "code",
   "execution_count": 16,
   "metadata": {
    "id": "B-pkiYuem9FQ"
   },
   "outputs": [],
   "source": [
    "loc = glGetAttribLocation(program, \"position\")\n",
    "glEnableVertexAttribArray(loc)"
   ]
  },
  {
   "cell_type": "markdown",
   "metadata": {
    "id": "6ULBAPYKm9FR"
   },
   "source": [
    "A partir da localização anterior, indicamos à GPU onde está o conteúdo (via posições stride/offset) para a variável `position` (aqui identificada na posição `loc`).\n",
    "\n",
    "Outros parâmetros:\n",
    "* Definimos que possui duas coordenadas.\n",
    "* Que cada coordenada é do tipo `float` (`GL_FLOAT`).\n",
    "* Que não se deve normalizar a coordenada (`False`).\n",
    "\n",
    "Mais detalhes: https://www.khronos.org/registry/OpenGL-Refpages/gl4/html/glVertexAttribPointer.xhtml"
   ]
  },
  {
   "cell_type": "code",
   "execution_count": 17,
   "metadata": {
    "id": "GhESrK-Bm9FR"
   },
   "outputs": [],
   "source": [
    "glVertexAttribPointer(loc, 2, GL_FLOAT, False, stride, offset)"
   ]
  },
  {
   "cell_type": "markdown",
   "metadata": {
    "id": "bGPg-DGKm9FS"
   },
   "source": [
    "###  Aqui, pegamos a localização da variável color (`uniform`) para que possamos alterá-la em nosso laço da janela."
   ]
  },
  {
   "cell_type": "code",
   "execution_count": 18,
   "metadata": {
    "id": "Binix2wxm9FS"
   },
   "outputs": [],
   "source": [
    "loc_color = glGetUniformLocation(program, \"color\")\n",
    "R = 1.0\n",
    "G = 0.0\n",
    "B = 0.0"
   ]
  },
  {
   "cell_type": "markdown",
   "metadata": {
    "id": "4OOVZ0hsm9FS"
   },
   "source": [
    "### Capturando eventos de teclado e modificando variáveis para a matriz de transformação"
   ]
  },
  {
   "cell_type": "code",
   "execution_count": 19,
   "metadata": {
    "id": "leszdTP7m9FT"
   },
   "outputs": [],
   "source": [
    "# exemplo para matriz de translacao\n",
    "t_x = 0\n",
    "t_y = 0\n",
    "theta = 0\n",
    "\n",
    "flor = 1\n",
    "\n",
    "def key_event(window,key,scancode,action,mods):\n",
    "    global t_x, t_y, theta, flor\n",
    "    \n",
    "    print('[key event] key=',key)\n",
    "    # print('[key event] scancode=',scancode)\n",
    "    # print('[key event] action=',action)\n",
    "    # print('[key event] mods=',mods)\n",
    "\n",
    "    # Transladar com as setas\n",
    "    if key == 265: t_y += 0.01 #cima\n",
    "    if key == 264: t_y -= 0.01 #baixo\n",
    "    if key == 263: t_x -= 0.01 #esquerda\n",
    "    if key == 262: t_x += 0.01 #direita\n",
    "        \n",
    "    # Alterar entre as flores, as teclas 1, 2 e 3\n",
    "    if key == 49:\n",
    "        flor = 1\n",
    "    elif key == 50:\n",
    "        flor = 2\n",
    "    elif key == 51:\n",
    "        flor = 3\n",
    "    \n",
    "glfw.set_key_callback(window,key_event)"
   ]
  },
  {
   "cell_type": "markdown",
   "metadata": {
    "id": "6vG8mu8gm9FT"
   },
   "source": [
    "### Nesse momento, exibimos a janela."
   ]
  },
  {
   "cell_type": "code",
   "execution_count": 20,
   "metadata": {
    "id": "EBVwsF2Wm9FU"
   },
   "outputs": [],
   "source": [
    "glfw.show_window(window)"
   ]
  },
  {
   "cell_type": "markdown",
   "metadata": {
    "id": "TmLA39KBop0h"
   },
   "source": [
    "# Execução"
   ]
  },
  {
   "cell_type": "markdown",
   "metadata": {
    "id": "oWU7CwKDm9FU"
   },
   "source": [
    "### Loop principal da janela.\n",
    "Enquanto a janela não for fechada, esse laço será executado. É neste espaço que trabalhamos com algumas interações com a `OpenGL`.\n",
    "\n",
    "A novidade agora é a função `glDrawArrays()`.\n",
    "\n",
    "Tal função recebe o tipo de primitiva (`GL_TRIANGLES`), o índice inicial do array de vértices (mostraremos todos os três vértices, por isso começamos com $0$) e a quantidade de vértices (`len(vertices)`)."
   ]
  },
  {
   "cell_type": "code",
   "execution_count": null,
   "metadata": {
    "id": "argp6eLKm9FU"
   },
   "outputs": [
    {
     "name": "stdout",
     "output_type": "stream",
     "text": [
      "[key event] key= 51\n",
      "[key event] key= 51\n",
      "[key event] key= 50\n",
      "[key event] key= 50\n",
      "[key event] key= 51\n",
      "[key event] key= 51\n",
      "[key event] key= 342\n",
      "[key event] key= 342\n"
     ]
    }
   ],
   "source": [
    "while not glfw.window_should_close(window):\n",
    "    glfw.poll_events() \n",
    "\n",
    "    # Definindo a cor de fundo\n",
    "    glClearColor(0.53, 0.60, 0.40, 1.0)\n",
    "    glClear(GL_COLOR_BUFFER_BIT)\n",
    "\n",
    "    # Transformações Geométricas\n",
    "    mat_translation = np.array([    1.0, 0.0, 0.0, t_x, \n",
    "                                    0.0, 1.0, 0.0, t_y, \n",
    "                                    0.0, 0.0, 1.0, 0.0, \n",
    "                                    0.0, 0.0, 0.0, 1.0], np.float32)\n",
    "\n",
    "#     s_x = t_x\n",
    "#     s_y = t_y\n",
    "#     mat_scale       = np.array([    s_x, 0.0, 0.0, 0.0, \n",
    "#                                     0.0, s_y, 0.0, 0.0, \n",
    "#                                     0.0, 0.0, 1.0, 0.0, \n",
    "#                                     0.0, 0.0, 0.0, 1.0], np.float32)\n",
    "    \n",
    "#     r_x = t_x\n",
    "#     r_y = t_y\n",
    "    # mat_rotation    = np.array([    np.cos(theta), -np.sin(theta), xr-xr*np.cos(theta)+yr*np.sin(theta), 0.0, \n",
    "                                    # np.sin(theta),  np.cos(theta), yr-yr*np.cos(theta)-xr*np.sin(theta), 0.0, \n",
    "                                            # 0.0,          0.0, 1.0, 0.0, \n",
    "                                            # 0.0,          0.0, 0.0, 1.0], np.float32)\n",
    "    loc = glGetUniformLocation(program, \"mat_transformation\")\n",
    "    glUniformMatrix4fv(loc, 1, GL_TRUE, mat_translation)\n",
    "    \n",
    "    if flor == 1:\n",
    "        # Meio (Amarelo)\n",
    "        glUniform4f(loc_color, 1, 1, 0, 1.0) \n",
    "        glDrawArrays(GL_TRIANGLE_STRIP, 0, 4)\n",
    "\n",
    "        # Petalas (Brancas)\n",
    "        glUniform4f(loc_color, 1, 1, 1, 1.0) \n",
    "        glDrawArrays(GL_TRIANGLE_STRIP, 4, 3)\n",
    "        glUniform4f(loc_color, 1, 1, 1, 1.0)\n",
    "        glDrawArrays(GL_TRIANGLE_STRIP, 7, 3)\n",
    "        glUniform4f(loc_color, 1, 1, 1, 1.0) \n",
    "        glDrawArrays(GL_TRIANGLE_STRIP, 10, 3)\n",
    "        glUniform4f(loc_color, 1, 1, 1, 1.0) \n",
    "        glDrawArrays(GL_TRIANGLE_STRIP, 13, 3)\n",
    "        glUniform4f(loc_color, 1, 1, 1, 1.0) \n",
    "        glDrawArrays(GL_TRIANGLE_STRIP, 16, 3)\n",
    "        glUniform4f(loc_color, 1, 1, 1, 1.0)\n",
    "        glDrawArrays(GL_TRIANGLE_STRIP, 19, 3)\n",
    "    \n",
    "    elif flor == 2:\n",
    "        glUniform4f(loc_color, 0.41, 0.35, 0.80, 1.0) \n",
    "        glDrawArrays(GL_TRIANGLE_FAN, 23, 7)\n",
    "        \n",
    "        glUniform4f(loc_color, 0.28, 0.24, 0.54, 1.0) \n",
    "        glDrawArrays(GL_TRIANGLE_FAN, 28, 7)\n",
    "        glUniform4f(loc_color, 1, 1, 1, 1.0)\n",
    "        glDrawArrays(GL_TRIANGLE_FAN, 36, 7)\n",
    "        glUniform4f(loc_color, 0.28, 0.24, 0.54, 1.0) \n",
    "        glDrawArrays(GL_TRIANGLE_FAN, 44, 7)\n",
    "        glUniform4f(loc_color, 1, 1, 1, 1.0) \n",
    "        glDrawArrays(GL_TRIANGLE_FAN, 50, 7)\n",
    "        glUniform4f(loc_color, 0.28, 0.24, 0.54, 1.0) \n",
    "        glDrawArrays(GL_TRIANGLE_FAN, 58, 7)\n",
    "        glUniform4f(loc_color, 1, 1, 1, 1.0)\n",
    "        glDrawArrays(GL_TRIANGLE_FAN, 64, 7)\n",
    "    \n",
    "    elif flor == 3:\n",
    "        glUniform4f(loc_color, 0.87, 0.19, 0.39, 1.0) \n",
    "        glDrawArrays(GL_TRIANGLE_FAN, 70, 7)\n",
    "        \n",
    "        glUniform4f(loc_color, 0.87, 0.19, 0.39, 1.0) \n",
    "        glDrawArrays(GL_TRIANGLE_FAN, 78, 6)\n",
    "        glUniform4f(loc_color, 0.87, 0.19, 0.39, 1.0)\n",
    "        glDrawArrays(GL_TRIANGLE_FAN, 84, 6)\n",
    "        glUniform4f(loc_color, 0.87, 0.19, 0.39, 1.0) \n",
    "        glDrawArrays(GL_TRIANGLE_FAN, 90, 6)\n",
    "        glUniform4f(loc_color, 0.87, 0.19, 0.39, 1.0) \n",
    "        glDrawArrays(GL_TRIANGLE_FAN, 96, 6)\n",
    "        glUniform4f(loc_color, 0.87, 0.19, 0.39, 1.0) \n",
    "        glDrawArrays(GL_TRIANGLE_FAN, 102, 6)\n",
    "        glUniform4f(loc_color, 0.87, 0.19, 0.39, 1.0)\n",
    "        glDrawArrays(GL_TRIANGLE_FAN, 108, 6)\n",
    "        \n",
    "    else:\n",
    "        print(\"Flor não reconhecida\")\n",
    "\n",
    "    glfw.swap_buffers(window)\n",
    "\n",
    "glfw.terminate()"
   ]
  }
 ],
 "metadata": {
  "colab": {
   "provenance": [],
   "toc_visible": true
  },
  "finalized": {
   "timestamp": 1583114796072,
   "trusted": true
  },
  "kernelspec": {
   "display_name": "Python 3",
   "language": "python",
   "name": "python3"
  },
  "language_info": {
   "codemirror_mode": {
    "name": "ipython",
    "version": 3
   },
   "file_extension": ".py",
   "mimetype": "text/x-python",
   "name": "python",
   "nbconvert_exporter": "python",
   "pygments_lexer": "ipython3",
   "version": "3.9.12"
  }
 },
 "nbformat": 4,
 "nbformat_minor": 4
}
