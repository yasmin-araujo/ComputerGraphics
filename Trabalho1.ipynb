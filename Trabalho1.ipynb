{
 "cells": [
  {
   "cell_type": "markdown",
   "metadata": {
    "id": "9yNkDC5Cm9E6"
   },
   "source": [
    "# Trabalho 1\n",
    "\n",
    "11218813 Bruna Magrini da Cruz<br>\n",
    "11218809 Flavio Salles<br>\n",
    "11219004 Yasmin Osajima de Araujo"
   ]
  },
  {
   "cell_type": "markdown",
   "metadata": {
    "id": "M5pgqttPnUXN",
    "jp-MarkdownHeadingCollapsed": true,
    "tags": []
   },
   "source": [
    "# Bibliotecas"
   ]
  },
  {
   "cell_type": "code",
   "execution_count": 384,
   "metadata": {
    "colab": {
     "base_uri": "https://localhost:8080/"
    },
    "id": "tFbbJm8anEAh",
    "outputId": "a5a7d1ab-cfab-4c91-c3a8-1da2e9d2de6e"
   },
   "outputs": [
    {
     "name": "stdout",
     "output_type": "stream",
     "text": [
      "Defaulting to user installation because normal site-packages is not writeable\n",
      "Requirement already satisfied: glfw in /home/magrini/.local/lib/python3.8/site-packages (2.5.9)\n",
      "\u001b[33mWARNING: You are using pip version 21.3.1; however, version 23.1 is available.\n",
      "You should consider upgrading via the '/bin/python3 -m pip install --upgrade pip' command.\u001b[0m\n",
      "Note: you may need to restart the kernel to use updated packages.\n",
      "Defaulting to user installation because normal site-packages is not writeable\n",
      "Requirement already satisfied: PyOpenGL in /home/magrini/.local/lib/python3.8/site-packages (3.1.6)\n",
      "\u001b[33mWARNING: You are using pip version 21.3.1; however, version 23.1 is available.\n",
      "You should consider upgrading via the '/bin/python3 -m pip install --upgrade pip' command.\u001b[0m\n",
      "Note: you may need to restart the kernel to use updated packages.\n"
     ]
    }
   ],
   "source": [
    "%pip install glfw\n",
    "%pip install PyOpenGL"
   ]
  },
  {
   "cell_type": "code",
   "execution_count": 385,
   "metadata": {
    "id": "1iFK0co4m9E8"
   },
   "outputs": [],
   "source": [
    "import glfw\n",
    "from OpenGL.GL import *\n",
    "import OpenGL.GL.shaders\n",
    "import numpy as np\n",
    "import math"
   ]
  },
  {
   "cell_type": "markdown",
   "metadata": {
    "id": "--tZ6pb1m9E-",
    "jp-MarkdownHeadingCollapsed": true,
    "tags": []
   },
   "source": [
    "# Janela"
   ]
  },
  {
   "cell_type": "code",
   "execution_count": 386,
   "metadata": {
    "colab": {
     "base_uri": "https://localhost:8080/"
    },
    "id": "lpDklCUqm9E_",
    "outputId": "3373d60c-35ae-48cf-890b-143ead1a0984"
   },
   "outputs": [],
   "source": [
    "glfw.init()\n",
    "glfw.window_hint(glfw.VISIBLE, glfw.FALSE)\n",
    "window = glfw.create_window(1020, 900, \"Trabalho 1 - Jardim do ICMC\", None, None)\n",
    "glfw.make_context_current(window)"
   ]
  },
  {
   "cell_type": "markdown",
   "metadata": {
    "id": "G7jYYliAoH9O",
    "jp-MarkdownHeadingCollapsed": true,
    "tags": []
   },
   "source": [
    "# GLSL"
   ]
  },
  {
   "cell_type": "markdown",
   "metadata": {
    "id": "Z5xB4hscm9FA"
   },
   "source": [
    "### `GLSL` (*OpenGL Shading Language*)\n",
    "Aqui veremos nosso primeiro código `GLSL`.\n",
    "\n",
    "É uma linguagem de *shading* de alto nível baseada na linguagem de programação `C`.\n",
    "\n",
    "Estamos escrevendo código `GLSL` como *strings* de uma variável (mas podemos ler de arquivos texto). Esse código, depois, terá que ser compilado e linkado ao nosso programa. \n",
    "\n",
    "Aprenderemos `GLSL` conforme a necessidade do curso. Usaremos uma versão do `GLSL` mais antiga, compatível com muitos dispositivos.\n",
    "### `GLSL` para *Vertex Shader*\n",
    "No Pipeline programável, podemos interagir com *Vertex Shaders*.\n",
    "\n",
    "No código abaixo, estamos fazendo o seguinte:\n",
    "* Definindo uma variável chamada `position` do tipo `vec2`.\n",
    "* Definindo uma variável chamada `mat_transformation` do tipo `mat4` (matriz $4\\times4$).\n",
    "* Usamos `vec2`, pois nosso programa (na CPU) enviará apenas duas coordenadas para plotar um ponto. Podemos mandar três coordenadas (`vec3`) e até mesmo quatro coordenadas (`vec4`).\n",
    "* `void main()` é o ponto de entrada do nosso programa (função principal).\n",
    "* `gl_Position` é uma variável especial do `GLSL`. Variáveis que começam com `gl_` são desse tipo. Neste caso, determina a posição de um vértice. Observe que todo vértice tem $4$ coordenadas, por isso combinamos nossa variável `vec2` com uma variável `vec4`. Além disso, modificamos nosso vetor com base em uma matriz de transformação, conforme estudado na Aula 4."
   ]
  },
  {
   "cell_type": "code",
   "execution_count": 387,
   "metadata": {
    "id": "HbT7Qebdm9FB"
   },
   "outputs": [],
   "source": [
    "vertex_code = \"\"\"\n",
    "        attribute vec2 position;\n",
    "        uniform mat4 mat_transformation;\n",
    "        void main(){\n",
    "            gl_Position = mat_transformation * vec4(position,0.0,1.0);\n",
    "        }\n",
    "        \"\"\""
   ]
  },
  {
   "cell_type": "markdown",
   "metadata": {
    "id": "VHNEG9yim9FD"
   },
   "source": [
    "### `GLSL` para *Fragment Shader*\n",
    "No Pipeline programável, podemos interagir com *Fragment Shaders*.\n",
    "\n",
    "No código abaixo, estamos fazendo o seguinte:\n",
    "* `void main()` é o ponto de entrada do nosso programa (função principal).\n",
    "* `gl_FragColor` é uma variável especial do `GLSL`. Variáveis que começam com `gl_` são desse tipo. Neste caso, determina a cor de um fragmento.\n",
    "\n",
    "### Possibilitando modificar a cor\n",
    "Nos exemplos anteriores, a variável `gl_FragColor` estava definida de forma fixa (com cor $R=0$, $G=0$, $B=0$).\n",
    "\n",
    "Agora, criaremos uma variável do tipo `uniform`, de quatro posições (`vec4`), para receber o dado de cor do nosso programa rodando em CPU."
   ]
  },
  {
   "cell_type": "code",
   "execution_count": 388,
   "metadata": {
    "id": "T-VsZZojm9FE"
   },
   "outputs": [],
   "source": [
    "fragment_code = \"\"\"\n",
    "        uniform vec4 color;\n",
    "        void main(){\n",
    "            gl_FragColor = color;\n",
    "        }\n",
    "        \"\"\"\n"
   ]
  },
  {
   "cell_type": "markdown",
   "metadata": {
    "id": "uwiGrKmwoTLA",
    "jp-MarkdownHeadingCollapsed": true,
    "tags": []
   },
   "source": [
    "# Compilação e Linkagem"
   ]
  },
  {
   "cell_type": "markdown",
   "metadata": {
    "id": "1ljEftllm9FF"
   },
   "source": [
    "### Requisitando slot para a GPU para nossos programas *Vertex* e *Fragment Shaders*"
   ]
  },
  {
   "cell_type": "code",
   "execution_count": 389,
   "metadata": {
    "id": "9zY3tpRvm9FH"
   },
   "outputs": [],
   "source": [
    "# Request a program and shader slots from GPU\n",
    "program = glCreateProgram()\n",
    "vertex = glCreateShader(GL_VERTEX_SHADER)\n",
    "fragment = glCreateShader(GL_FRAGMENT_SHADER)"
   ]
  },
  {
   "cell_type": "markdown",
   "metadata": {
    "id": "Z8jb_9jDm9FI"
   },
   "source": [
    "### Associando nosso código-fonte aos slots solicitados"
   ]
  },
  {
   "cell_type": "code",
   "execution_count": 390,
   "metadata": {
    "id": "O0EA8LvCm9FI"
   },
   "outputs": [],
   "source": [
    "# Set shaders source\n",
    "glShaderSource(vertex, vertex_code)\n",
    "glShaderSource(fragment, fragment_code)"
   ]
  },
  {
   "cell_type": "markdown",
   "metadata": {
    "id": "kW9lPdAym9FJ"
   },
   "source": [
    "### Compilando o *Vertex Shader*\n",
    "Se há algum erro em nosso programa *Vertex Shader*, nosso app para por aqui."
   ]
  },
  {
   "cell_type": "code",
   "execution_count": 391,
   "metadata": {
    "id": "QLSOy8-3m9FJ"
   },
   "outputs": [],
   "source": [
    "# Compile shaders\n",
    "glCompileShader(vertex)\n",
    "if not glGetShaderiv(vertex, GL_COMPILE_STATUS):\n",
    "    error = glGetShaderInfoLog(vertex).decode()\n",
    "    print(error)\n",
    "    raise RuntimeError(\"Erro de compilacao do Vertex Shader\")\n"
   ]
  },
  {
   "cell_type": "markdown",
   "metadata": {
    "id": "Y0MAJBd8m9FK"
   },
   "source": [
    "### Compilando o *Fragment Shader*\n",
    "Se há algum erro em nosso programa *Fragment Shader*, nosso app para por aqui."
   ]
  },
  {
   "cell_type": "code",
   "execution_count": 392,
   "metadata": {
    "id": "Ut9S-mL9m9FK"
   },
   "outputs": [],
   "source": [
    "glCompileShader(fragment)\n",
    "if not glGetShaderiv(fragment, GL_COMPILE_STATUS):\n",
    "    error = glGetShaderInfoLog(fragment).decode()\n",
    "    print(error)\n",
    "    raise RuntimeError(\"Erro de compilacao do Fragment Shader\")\n"
   ]
  },
  {
   "cell_type": "markdown",
   "metadata": {
    "id": "9I49xUwBm9FL"
   },
   "source": [
    "### Associando os programas compilados ao programa principal"
   ]
  },
  {
   "cell_type": "code",
   "execution_count": 393,
   "metadata": {
    "id": "HI1POTeWm9FM"
   },
   "outputs": [],
   "source": [
    "# Attach shader objects to the program\n",
    "glAttachShader(program, vertex)\n",
    "glAttachShader(program, fragment)\n"
   ]
  },
  {
   "cell_type": "markdown",
   "metadata": {
    "id": "Bbw8Hbtfm9FM"
   },
   "source": [
    "### Linkagem do programa"
   ]
  },
  {
   "cell_type": "code",
   "execution_count": 394,
   "metadata": {
    "colab": {
     "base_uri": "https://localhost:8080/",
     "height": 254
    },
    "id": "CbiWM3W5m9FN",
    "outputId": "c4172bb4-c110-4e4d-bb46-ba3ac1b180e5"
   },
   "outputs": [],
   "source": [
    "# Build program\n",
    "glLinkProgram(program)\n",
    "if not glGetProgramiv(program, GL_LINK_STATUS):\n",
    "    print(glGetProgramInfoLog(program))\n",
    "    raise RuntimeError('Linking error')\n",
    "\n",
    "# Make program the default program\n",
    "glUseProgram(program)\n"
   ]
  },
  {
   "cell_type": "markdown",
   "metadata": {
    "id": "SbrJ2EYHoaLS"
   },
   "source": [
    "# Definição de Elementos"
   ]
  },
  {
   "cell_type": "markdown",
   "metadata": {
    "id": "0UCJ7Gh_m9FN"
   },
   "source": [
    "### Preparando dados para enviar a GPU\n",
    "Nesse momento, compilamos nossos *Vertex* e *Fragment Shaders* para que a GPU possa processá-los.\n",
    "\n",
    "Por outro lado, as informações de vértices geralmente estão na CPU e devem ser transmitidas para a GPU."
   ]
  },
  {
   "cell_type": "code",
   "execution_count": 395,
   "metadata": {},
   "outputs": [],
   "source": [
    "def get_vertices_circulo(x_center, y_center, num_vertices, radius):\n",
    "    circulo = np.zeros(num_vertices, [(\"position\", np.float32, 2)])\n",
    "    pi = np.pi\n",
    "    angle = 0.0\n",
    "    for counter in range(num_vertices):\n",
    "        angle += 2*pi/num_vertices\n",
    "        x = math.cos(angle)*radius + x_center\n",
    "        y = math.sin(angle)*radius + y_center\n",
    "        circulo[counter] = [x, y]\n",
    "    return circulo\n",
    "\n",
    "\n",
    "def get_vertices_pa():\n",
    "    pa = np.zeros(12, [(\"position\", np.float32, 2)])\n",
    "    pa['position'] = [\n",
    "        (0.033, 0.5), (0.033, 0.513), (-0.033, 0.5), (-0.033, 0.513),\n",
    "        (0.015, 0.1), (0.015, 0.5), (-0.015, 0.1), (-0.015, 0.5),\n",
    "        (0.1, 0.1), (0.1, 0.0), (-0.1, 0.1), (-0.1, 0.0)\n",
    "    ]\n",
    "    pa = np.append(pa, get_vertices_circulo(0, 0, 32, 0.1))\n",
    "    return pa\n",
    "\n",
    "\n",
    "def get_vertices_flor5():\n",
    "    flor = np.zeros(40, [(\"position\", np.float32, 2)])\n",
    "    flor['position'] = [\n",
    "        # Pétala 1\n",
    "        (0, 0), (0.3, -0.1), (0.4, 0), (0.3, 0.1), (0, 0),\n",
    "        # Pétala 2\n",
    "        (0, 0), (0.29, 0.15), (0.3, 0.3), (0.15, 0.29), (0, 0),\n",
    "        # Pétala 3\n",
    "        (0, 0), (0.1, 0.3), (0, 0.4), (-0.1, 0.3), (0, 0),\n",
    "        # Pétala 4\n",
    "        (0, 0), (-0.15, 0.29), (-0.3, 0.3), (-0.29, 0.15), (0, 0),\n",
    "        # Pétala 5\n",
    "        (0, 0), (-0.3, 0.1), (-0.4, 0), (-0.3, -0.1), (0, 0),\n",
    "        # Pétala 6\n",
    "        (0, 0), (-0.29, -0.15), (-0.3, -0.3), (-0.15, -0.29), (0, 0),\n",
    "        # Pétala 7\n",
    "        (0, 0), (-0.1, -0.3), (0, -0.4), (0.1, -0.3), (0, 0),\n",
    "        # Pétala 8\n",
    "        (0, 0), (0.15, -0.29), (0.3, -0.3), (0.29, -0.15), (0, 0),\n",
    "    ]\n",
    "    # Meio\n",
    "    flor = np.append(flor, get_vertices_circulo(0, 0, 32, 0.2))\n",
    "    return flor\n"
   ]
  },
  {
   "cell_type": "code",
   "execution_count": 396,
   "metadata": {
    "id": "26upvfGAm9FN"
   },
   "outputs": [],
   "source": [
    "# preparando espaço para 3 vértices usando 2 coordenadas (x,y)\n",
    "vertices = np.zeros(154, [(\"position\", np.float32, 2)])\n",
    "\n",
    "# preenchendo as coordenadas de cada vértice\n",
    "vertices['position'] = [\n",
    "    # -------------- Flor 1 (0 - 21) --------------#\n",
    "    # Meio\n",
    "    (-0.01, +0.1), (+0.08, +0.02), (-0.08, 0), (+0.02, -0.07),\n",
    "    # Petala 1\n",
    "    (-0.01, +0.1), (+0.16, +0.29), (-0.13, +0.32),\n",
    "    # Petala 2\n",
    "    (+0.28, +0.29), (+0.04, +0.05), (+0.31, +0.07),\n",
    "    # Petala 3\n",
    "    (+0.33, -0.06), (+0.06, -0.03), (+0.2, -0.28),\n",
    "    # Petala 4\n",
    "    (+0.02, -0.07), (-0.07, -0.24), (+0.13, -0.31),\n",
    "    # Petala 5\n",
    "    (-0.05, -0.03), (-0.2, -0.25), (-0.34, -0.07),\n",
    "    # Petala 6\n",
    "    (-0.36, +0.06), (-0.05, +0.05), (-0.2, +0.2),\n",
    "\n",
    "    # -------------- Flor 2 (22 - 70) --------------#\n",
    "    # Meio\n",
    "    (0, +0.1), (+0.08, +0.05), (+0.08, -0.04), (0, -0.09),\n",
    "    (-0.08, -0.04), (-0.08, +0.05), (0, +0.1),\n",
    "    # Petala 1\n",
    "    (0, +0.1), (0, +0.19), (+0.08, +0.24), (+0.16, +0.19),\n",
    "    (+0.16, +0.1), (+0.08, +0.05), (0, +0.1),\n",
    "    # Petala 2\n",
    "    (+0.08, +0.05), (+0.16, +0.1), (+0.24, +0.06), (+0.24, -0.04),\n",
    "    (+0.16, -0.09), (+0.08, -0.04), (+0.08, +0.05),\n",
    "    # Petala 3\n",
    "    (+0.08, -0.04), (+0.16, -0.09), (+0.16, -0.18), (+0.08, -0.23),\n",
    "    (0, -0.18), (0, -0.09), (+0.08, -0.04),\n",
    "    # Petala 4\n",
    "    (0, -0.09), (0, -0.18), (-0.08, -0.22), (-0.16, -0.18),\n",
    "    (-0.16, -0.09), (-0.08, -0.04), (0, -0.09),\n",
    "    # Petala 5\n",
    "    (-0.08, -0.04), (-0.16, -0.09), (-0.24, -0.04), (-0.24, +0.05),\n",
    "    (-0.16, +0.1), (-0.08, +0.05), (-0.08, -0.04),\n",
    "    # Petala 6\n",
    "    (-0.08, +0.05), (-0.16, +0.1), (-0.16, +0.19), (-0.08, +0.24),\n",
    "    (0, +0.19), (0, +0.1), (-0.08, +0.05),\n",
    "\n",
    "    # -------------- Flor 3 (71 - 113) --------------#\n",
    "    # Meio\n",
    "    (0, +0.1), (+0.07, +0.06), (+0.07, -0.02), (0, -0.06),\n",
    "    (-0.07, -0.02), (-0.07, +0.06), (0, +0.1),\n",
    "    # Petala 1\n",
    "    (+0.01, +0.12), (+0.03, +0.2), (+0.11, +0.2),\n",
    "    (+0.14, +0.13), (+0.08, 0.08), (+0.01, +0.12),\n",
    "    # Petala 2\n",
    "    (+0.09, +0.06), (+0.17, +0.09), (+0.21, +0.02),\n",
    "    (+0.17, -0.04), (+0.09, -0.02), (+0.09, +0.06),\n",
    "    # Petala 3\n",
    "    (+0.09, -0.04), (+0.15, -0.09), (+0.12, -0.17),\n",
    "    (+0.03, -0.16), (+0.01, -0.08), (+0.09, -0.04),\n",
    "    # Petala 4\n",
    "    (-0.01, -0.08), (-0.03, -0.17), (-0.11, -0.17),\n",
    "    (-0.15, -0.1), (-0.08, -0.04), (-0.01, -0.08),\n",
    "    # Petala 5\n",
    "    (-0.09, -0.02), (-0.18, -0.05), (-0.22, +0.02),\n",
    "    (-0.17, +0.09), (-0.09, +0.06), (-0.09, -0.02),\n",
    "    # Petala 6\n",
    "    (-0.09, +0.07), (-0.15, +0.13), (-0.11, +0.21),\n",
    "    (-0.03, +0.2), (-0.01, 0.11), (-0.09, +0.07),\n",
    "\n",
    "    # -------------- Canteiro (114 - 153) --------------#\n",
    "    # Borda\n",
    "    (-0.63, -0.63), (-0.63, 0.63), (0.63, -0.63), (0.63, 0.63),\n",
    "    # Fundo\n",
    "    (-0.6, -0.6), (-0.6, 0.6), (0.6, -0.6), (0.6, 0.6),\n",
    "    # Padrão - 8 quadrados\n",
    "    (-0.6, -0.6), (-0.6, -0.3), (-0.3, -0.6), (-0.3, -0.3),\n",
    "    (-0.6, 0.0), (-0.6, 0.3), (-0.3, 0.0), (-0.3, 0.3),\n",
    "    (-0.3, -0.3), (-0.3, 0.0), (0.0, -0.3), (0.0, 0.0),\n",
    "    (-0.3, 0.3), (-0.3, 0.6), (0.0, 0.3), (0.0, 0.6),\n",
    "    (0.0, -0.6), (0.0, -0.3), (0.3, -0.6), (0.3, -0.3),\n",
    "    (0.0, 0.0), (0.0, 0.3), (0.3, 0.0), (0.3, 0.3),\n",
    "    (0.3, -0.3), (0.3, 0.0), (0.6, -0.3), (0.6, 0.0),\n",
    "    (0.3, 0.3), (0.3, 0.6), (0.6, 0.3), (0.6, 0.6),\n",
    "\n",
    "]\n",
    "# -------------- Flor 4 (154-313) --------------------#\n",
    "\n",
    "vertices = np.append(vertices, get_vertices_circulo(0.1, 0.1, 32, 0.1))\n",
    "vertices = np.append(vertices, get_vertices_circulo(0.1, -0.1, 32, 0.1))\n",
    "vertices = np.append(vertices, get_vertices_circulo(-0.1, -0.1, 32, 0.1))\n",
    "vertices = np.append(vertices, get_vertices_circulo(-0.1, 0.1, 32, 0.1))\n",
    "vertices = np.append(vertices, get_vertices_circulo(0, 0, 32, 0.1))\n",
    "\n",
    "# -------------- Pá (314 - 357) --------------------#\n",
    "vertices = np.append(vertices, get_vertices_pa())\n",
    "\n",
    "# -------------- Flor 5 (358 - 429) --------------------#\n",
    "vertices = np.append(vertices, get_vertices_flor5())"
   ]
  },
  {
   "cell_type": "code",
   "execution_count": 397,
   "metadata": {},
   "outputs": [],
   "source": [
    "# Adicionar os offsets aqui:\n",
    "OFFSET_FLOR_1 = 0\n",
    "OFFSET_FLOR_2 = 22\n",
    "OFFSET_FLOR_3 = 71\n",
    "OFFSET_CANTEIRO = 114\n",
    "OFFSET_FLOR_4 = 154\n",
    "OFFSET_PA = 314\n",
    "OFFSET_FLOR_5 = 358"
   ]
  },
  {
   "cell_type": "markdown",
   "metadata": {
    "id": "Atx-tF6im9FO"
   },
   "source": [
    "### Para enviar nossos dados da CPU para a GPU, precisamos requisitar um slot."
   ]
  },
  {
   "cell_type": "code",
   "execution_count": 398,
   "metadata": {
    "id": "8Tev4mxfm9FP"
   },
   "outputs": [],
   "source": [
    "# Request a buffer slot from GPU\n",
    "buffer = glGenBuffers(1)\n",
    "# Make this buffer the default one\n",
    "glBindBuffer(GL_ARRAY_BUFFER, buffer)"
   ]
  },
  {
   "cell_type": "markdown",
   "metadata": {
    "id": "_wMZ10SDm9FP"
   },
   "source": [
    "### Abaixo, enviamos todo o conteúdo da variável `vertices`.\n",
    "Veja os parâmetros da função `glBufferData` [https://www.khronos.org/registry/OpenGL-Refpages/gl4/html/glBufferData.xhtml]"
   ]
  },
  {
   "cell_type": "code",
   "execution_count": 399,
   "metadata": {
    "id": "Q123w5dkm9FP"
   },
   "outputs": [],
   "source": [
    "# Upload data\n",
    "glBufferData(GL_ARRAY_BUFFER, vertices.nbytes, vertices, GL_DYNAMIC_DRAW)\n",
    "glBindBuffer(GL_ARRAY_BUFFER, buffer)"
   ]
  },
  {
   "cell_type": "markdown",
   "metadata": {
    "id": "Ux27BB8jm9FQ"
   },
   "source": [
    "### Associando variáveis do programa `GLSL` (*Vertex Shaders*) com nossos dados\n",
    "Primeiro, definimos o byte inicial e o offset dos dados."
   ]
  },
  {
   "cell_type": "code",
   "execution_count": 400,
   "metadata": {
    "id": "xogg8rA6m9FQ"
   },
   "outputs": [],
   "source": [
    "# Bind the position attribute\n",
    "# --------------------------------------\n",
    "stride = vertices.strides[0]\n",
    "offset = ctypes.c_void_p(0)"
   ]
  },
  {
   "cell_type": "markdown",
   "metadata": {
    "id": "B41U0lRCm9FQ"
   },
   "source": [
    "Em seguida, soliciamos à GPU a localização da variável `position` (que guarda coordenadas dos nossos vértices). Definimos essa variável no *Vertex Shader*."
   ]
  },
  {
   "cell_type": "code",
   "execution_count": 401,
   "metadata": {
    "id": "B-pkiYuem9FQ"
   },
   "outputs": [],
   "source": [
    "loc = glGetAttribLocation(program, \"position\")\n",
    "glEnableVertexAttribArray(loc)"
   ]
  },
  {
   "cell_type": "markdown",
   "metadata": {
    "id": "6ULBAPYKm9FR"
   },
   "source": [
    "A partir da localização anterior, indicamos à GPU onde está o conteúdo (via posições stride/offset) para a variável `position` (aqui identificada na posição `loc`).\n",
    "\n",
    "Outros parâmetros:\n",
    "* Definimos que possui duas coordenadas.\n",
    "* Que cada coordenada é do tipo `float` (`GL_FLOAT`).\n",
    "* Que não se deve normalizar a coordenada (`False`).\n",
    "\n",
    "Mais detalhes: https://www.khronos.org/registry/OpenGL-Refpages/gl4/html/glVertexAttribPointer.xhtml"
   ]
  },
  {
   "cell_type": "code",
   "execution_count": 402,
   "metadata": {
    "id": "GhESrK-Bm9FR"
   },
   "outputs": [],
   "source": [
    "glVertexAttribPointer(loc, 2, GL_FLOAT, False, stride, offset)"
   ]
  },
  {
   "cell_type": "markdown",
   "metadata": {
    "id": "bGPg-DGKm9FS"
   },
   "source": [
    "###  Aqui, pegamos a localização da variável color (`uniform`) para que possamos alterá-la em nosso laço da janela."
   ]
  },
  {
   "cell_type": "code",
   "execution_count": 403,
   "metadata": {
    "id": "Binix2wxm9FS"
   },
   "outputs": [],
   "source": [
    "loc_color = glGetUniformLocation(program, \"color\")\n",
    "R = 1.0\n",
    "G = 0.0\n",
    "B = 0.0"
   ]
  },
  {
   "cell_type": "markdown",
   "metadata": {
    "id": "4OOVZ0hsm9FS"
   },
   "source": [
    "### Capturando eventos de teclado e modificando variáveis para a matriz de transformação"
   ]
  },
  {
   "cell_type": "code",
   "execution_count": 404,
   "metadata": {
    "id": "leszdTP7m9FT"
   },
   "outputs": [],
   "source": [
    "transl = np.array([[0, 0, 0, 0, 0], [0, 0, 0, 0, 0]], dtype=float)\n",
    "scale = np.array([[0.4, 0.5, 0.5, 0.5, 0.4], [\n",
    "                 0.4, 0.5, 0.5, 0.5, 0.4]], dtype=float)\n",
    "theta = np.array([0, 0, 0, 0, 0], dtype=float)\n",
    "\n",
    "flor_plantada = np.array([False, False, False, False, False])\n",
    "\n",
    "flor_atual = 0\n",
    "fim_de_jogo = False\n",
    "\n",
    "def key_event(window, key, scancode, action, mods):\n",
    "    global transl, scale, theta, flor_atual, flor_plantada\n",
    "\n",
    "    # print('[key event] key=', key)\n",
    "    # print('[key event] scancode=', scancode)\n",
    "    # print('[key event] action=', action)\n",
    "    # print('[key event] mods=', mods)\n",
    "\n",
    "    # Transladar com as setas\n",
    "    if key == 265 and not flor_plantada[flor_atual]:  # cima\n",
    "        transl[1][flor_atual] += 0.01\n",
    "    if key == 264 and not flor_plantada[flor_atual]:  # baixo\n",
    "        transl[1][flor_atual] -= 0.01\n",
    "    if key == 263 and not flor_plantada[flor_atual]:  # esquerda\n",
    "        transl[0][flor_atual] -= 0.01\n",
    "    if key == 262 and not flor_plantada[flor_atual]:  # direita\n",
    "        transl[0][flor_atual] += 0.01\n",
    "\n",
    "    # Escalar com as teclas + e -\n",
    "    if (key == 334 or key == 61) and scale[0][flor_atual] < 1 and not flor_plantada[flor_atual]:  # aumenta\n",
    "        scale[0][flor_atual] += 0.01\n",
    "        scale[1][flor_atual] += 0.01\n",
    "    if (key == 333 or key == 45) and scale[0][flor_atual] > 0.15 and not flor_plantada[flor_atual]:  # diminui\n",
    "        scale[0][flor_atual] -= 0.01\n",
    "        scale[1][flor_atual] -= 0.01\n",
    "\n",
    "    # Rotacionar com as teclas < e >\n",
    "    if key == 44 and not flor_plantada[flor_atual]:  # antihorário\n",
    "        theta[flor_atual] += 0.1\n",
    "    if key == 46 and not flor_plantada[flor_atual]:  # horário\n",
    "        theta[flor_atual] -= 0.1\n",
    "\n",
    "    # Alterar entre as flores, as teclas 1 - 4\n",
    "    if key == 49 or key == 321:\n",
    "        flor_atual = 0\n",
    "    elif key == 50 or key == 322:\n",
    "        flor_atual = 1\n",
    "    elif key == 51 or key == 323:\n",
    "        flor_atual = 2\n",
    "    elif key == 52 or key == 324:\n",
    "        flor_atual = 3\n",
    "    elif key == 53 or key == 325:\n",
    "        flor_atual = 4\n",
    "\n",
    "    # Fixar flores na tela\n",
    "    if key == 257:  # enter\n",
    "        flor_plantada[flor_atual] = True\n",
    "\n",
    "\n",
    "glfw.set_key_callback(window, key_event)\n"
   ]
  },
  {
   "cell_type": "markdown",
   "metadata": {},
   "source": [
    "Criaremos uma função genérica para gerar a matriz de transformação das flores de acordo com as variáveis modificadas pelos eventos do teclado:"
   ]
  },
  {
   "cell_type": "code",
   "execution_count": 405,
   "metadata": {},
   "outputs": [],
   "source": [
    "def monta_matriz(index=flor_atual, transladar=True, rotacionar=True, escalar=True):\n",
    "    t_x = transl[0][index] if transladar else 1\n",
    "    t_y = transl[1][index] if transladar else 1\n",
    "    s_x = scale[0][index] if escalar else 1\n",
    "    s_y = scale[1][index] if escalar else 1\n",
    "    th = theta[index] if rotacionar else 1\n",
    "\n",
    "    return np.array([math.cos(th)*s_x, -math.sin(th)*s_y, 0.0, t_x,\n",
    "                     math.sin(th)*s_x, math.cos(th)*s_y, 0.0, t_y,\n",
    "                     0.0, 0.0, 1.0, 0.0,\n",
    "                     0.0, 0.0, 0.0, 1.0], np.float32)\n"
   ]
  },
  {
   "cell_type": "markdown",
   "metadata": {
    "id": "6vG8mu8gm9FT"
   },
   "source": [
    "### Nesse momento, exibimos a janela."
   ]
  },
  {
   "cell_type": "code",
   "execution_count": 406,
   "metadata": {
    "id": "EBVwsF2Wm9FU"
   },
   "outputs": [],
   "source": [
    "glfw.show_window(window)\n"
   ]
  },
  {
   "cell_type": "markdown",
   "metadata": {
    "id": "TmLA39KBop0h"
   },
   "source": [
    "# Execução"
   ]
  },
  {
   "cell_type": "markdown",
   "metadata": {},
   "source": [
    "### Objetos\n",
    "Alguns objetos serão mostrados na janela, e para isso os definimos em diferentes funções."
   ]
  },
  {
   "cell_type": "code",
   "execution_count": 407,
   "metadata": {},
   "outputs": [],
   "source": [
    "def desenhar_canteiro(program):\n",
    "    matriz_canteiro = np.array([1.0, 0.0, 0.0, 0.0,\n",
    "                             0.0, 1.0, 0.0, 0.0,\n",
    "                             0.0, 0.0, 1.0, 0.0,\n",
    "                             0.0, 0.0, 0.0, 1.0], np.float32)\n",
    "    loc = glGetUniformLocation(program, \"mat_transformation\")\n",
    "    glUniformMatrix4fv(loc, 1, GL_TRUE, matriz_canteiro)\n",
    "\n",
    "    offset = OFFSET_CANTEIRO\n",
    "    # Borda\n",
    "    glUniform4f(loc_color, 0.20, 0.11, 0.03, 1.0)\n",
    "    glDrawArrays(GL_TRIANGLE_STRIP, offset, 4)\n",
    "    offset += 4\n",
    "    # Fundo\n",
    "    glUniform4f(loc_color, 0.38, 0.22, 0.07, 1.0)\n",
    "    glDrawArrays(GL_TRIANGLE_STRIP, offset, 4)\n",
    "    offset += 4\n",
    "    # Padrao\n",
    "    for i in range(8):\n",
    "        glUniform4f(loc_color, 0.38, 0.26, 0.07, 1.0)\n",
    "        glDrawArrays(GL_TRIANGLE_STRIP, offset, 4)\n",
    "        offset += 4\n",
    "\n",
    "def desenhar_flor0():\n",
    "    offset = OFFSET_FLOR_1\n",
    "    # Meio (Amarelo)\n",
    "    glUniform4f(loc_color, 1, 1, 0, 1.0)\n",
    "    glDrawArrays(GL_TRIANGLE_STRIP, offset, 4)\n",
    "    offset += 4\n",
    "\n",
    "    # Petalas (Brancas)\n",
    "    for i in range(6):\n",
    "        glUniform4f(loc_color, 1, 1, 1, 1.0)\n",
    "        glDrawArrays(GL_TRIANGLE_STRIP, offset, 3)\n",
    "        offset += 3\n",
    "\n",
    "\n",
    "def desenhar_flor1():\n",
    "    offset = OFFSET_FLOR_2\n",
    "    glUniform4f(loc_color, 0.41, 0.35, 0.80, 1.0)\n",
    "    glDrawArrays(GL_TRIANGLE_FAN, offset, 7)\n",
    "    offset += 7\n",
    "\n",
    "    for i in range(3):\n",
    "        glUniform4f(loc_color, 0.28, 0.24, 0.54, 1.0)\n",
    "        glDrawArrays(GL_TRIANGLE_FAN, offset, 7)\n",
    "        offset += 7\n",
    "        glUniform4f(loc_color, 1, 1, 1, 1.0)\n",
    "        glDrawArrays(GL_TRIANGLE_FAN, offset, 7)\n",
    "        offset += 7\n",
    "\n",
    "\n",
    "def desenhar_flor2():\n",
    "    offset = OFFSET_FLOR_3\n",
    "    glUniform4f(loc_color, 0.87, 0.19, 0.39, 1.0)\n",
    "    glDrawArrays(GL_TRIANGLE_FAN, offset, 7)\n",
    "    offset += 7\n",
    "\n",
    "    for i in range(6):\n",
    "        glUniform4f(loc_color, 0.87, 0.19, 0.39, 1.0)\n",
    "        glDrawArrays(GL_TRIANGLE_FAN, offset, 6)\n",
    "        offset += 6\n",
    "\n",
    "\n",
    "def desenhar_flor3():\n",
    "    offset = OFFSET_FLOR_4\n",
    "    for i in range(4):\n",
    "        glUniform4f(loc_color, 0.87, 0.87, 0.0, 1.0)\n",
    "        glDrawArrays(GL_TRIANGLE_FAN, offset, 32)\n",
    "        offset += 32\n",
    "\n",
    "    glUniform4f(loc_color, 0.9, 0.9, 0.9, 1.0)\n",
    "    glDrawArrays(GL_TRIANGLE_FAN, offset, 32)\n",
    "\n",
    "\n",
    "def desenhar_flor4():\n",
    "    offset = OFFSET_FLOR_5\n",
    "    for i in range(8):\n",
    "        glUniform4f(loc_color, 1.0, 0.7, 0.1, 1.0)\n",
    "        glDrawArrays(GL_TRIANGLE_STRIP, offset, 5)\n",
    "        offset += 5\n",
    "\n",
    "    glUniform4f(loc_color, 0.25, 0.12, 0.0, 1.0)\n",
    "    glDrawArrays(GL_TRIANGLE_FAN, offset, 32)\n",
    "\n",
    "def desenhar_flor(program, flor):\n",
    "    loc = glGetUniformLocation(program, \"mat_transformation\")\n",
    "    matriz_flor = monta_matriz(flor)\n",
    "    glUniformMatrix4fv(loc, 1, GL_TRUE, matriz_flor)\n",
    "\n",
    "    if flor == 0:\n",
    "        desenhar_flor0()\n",
    "    elif flor == 1:\n",
    "        desenhar_flor1()\n",
    "    elif flor == 2:\n",
    "        desenhar_flor2()\n",
    "    elif flor == 3:\n",
    "        desenhar_flor3()\n",
    "    elif flor == 4:\n",
    "        desenhar_flor4()\n",
    "\n",
    "def desenhar_pa(program, flor = None, fim_de_jogo=False):\n",
    "    if fim_de_jogo:\n",
    "        matriz_pa = np.array([1.0, 0.0, 0.0, 0.8,\n",
    "                              0.0, 1.0, 0.0, -0.2,\n",
    "                              0.0, 0.0, 1.0, 0.0,\n",
    "                              0.0, 0.0, 0.0, 1.0], np.float32)\n",
    "        glUniformMatrix4fv(loc, 1, GL_TRUE, matriz_pa)\n",
    "    else:\n",
    "        matriz_pa = monta_matriz(flor, escalar=False)\n",
    "        glUniformMatrix4fv(loc, 1, GL_TRUE, matriz_pa)\n",
    "\n",
    "    offset = OFFSET_PA\n",
    "    # Cabo da pá\n",
    "    for i in range(2):\n",
    "        glUniform4f(loc_color, 0.9, 0.9, 0.9, 1.0)\n",
    "        glDrawArrays(GL_TRIANGLE_STRIP, offset, 4)\n",
    "        offset += 4\n",
    "    # Pá\n",
    "    glUniform4f(loc_color, 0.4, 0.4, 0.4, 1.0)\n",
    "    glDrawArrays(GL_TRIANGLE_STRIP, offset, 4)\n",
    "    offset += 4\n",
    "    glUniform4f(loc_color, 0.4, 0.4, 0.4, 1.0)\n",
    "    glDrawArrays(GL_TRIANGLE_FAN, offset, 32)\n",
    "    offset += 32\n"
   ]
  },
  {
   "cell_type": "markdown",
   "metadata": {
    "id": "oWU7CwKDm9FU"
   },
   "source": [
    "### Loop principal da janela.\n",
    "Enquanto a janela não for fechada, esse laço será executado. É neste espaço que trabalhamos com algumas interações com a `OpenGL`.\n",
    "\n",
    "A novidade agora é a função `glDrawArrays()`.\n",
    "\n",
    "Tal função recebe o tipo de primitiva (`GL_TRIANGLES`), o índice inicial do array de vértices (mostraremos todos os três vértices, por isso começamos com $0$) e a quantidade de vértices (`len(vertices)`)."
   ]
  },
  {
   "cell_type": "code",
   "execution_count": 408,
   "metadata": {
    "id": "argp6eLKm9FU"
   },
   "outputs": [
    {
     "name": "stdout",
     "output_type": "stream",
     "text": [
      "Boas vindas ao Jardim do ICMC!\n",
      "------------------------------\n",
      "Como jardineiro, você deve plantar todas as 5 flores, utilizando as teclas de 1 a 5 para selecionar uma flor e ENTER para plantar.\n",
      "Para mover utilize as setas do teclado.\n",
      "Para escalar utilize as seguintes teclas: '+', '-'.\n",
      "Para rotacionar utilize as seguintes teclas: '<', '>'.\n",
      "Ao plantar todas as flores, você terá ajudado na construção do Jardim do ICMC.\n",
      "------------------------------\n",
      "Parabéns!!! Que lindo canteiro ^^\n"
     ]
    }
   ],
   "source": [
    "print(\"Boas vindas ao Jardim do ICMC!\")\n",
    "print(\"------------------------------\")\n",
    "print(\"Como jardineiro, você deve plantar todas as 5 flores, utilizando as teclas de 1 a 5 para selecionar uma flor e ENTER para plantar.\")\n",
    "print(\"Para mover utilize as setas do teclado.\")\n",
    "print(\"Para escalar utilize as seguintes teclas: '+', '-'.\")\n",
    "print(\"Para rotacionar utilize as seguintes teclas: '<', '>'.\")\n",
    "print(\"Ao plantar todas as flores, você terá ajudado na construção do Jardim do ICMC.\")\n",
    "print(\"------------------------------\")\n",
    "\n",
    "while not glfw.window_should_close(window):\n",
    "    glfw.poll_events()\n",
    "\n",
    "    # Definindo a cor de fundo\n",
    "    glClearColor(0.45, 0.59, 0.23, 1.0)\n",
    "    glClear(GL_COLOR_BUFFER_BIT)\n",
    "\n",
    "    desenhar_canteiro(program)\n",
    "\n",
    "    def desenhar_plantando_flor(flor):\n",
    "        if flor_atual == flor or flor_plantada[flor]:\n",
    "            if flor_atual == flor and not flor_plantada[flor]:\n",
    "                desenhar_pa(program, flor=flor)\n",
    "            desenhar_flor(program, flor)\n",
    "\n",
    "    desenhar_plantando_flor(0)\n",
    "    desenhar_plantando_flor(1)\n",
    "    desenhar_plantando_flor(2)\n",
    "    desenhar_plantando_flor(3)\n",
    "    desenhar_plantando_flor(4)\n",
    "\n",
    "    if np.sum(flor_plantada) == 5 and fim_de_jogo == False:\n",
    "        print(\"Parabéns!!! Que lindo canteiro ^^\")\n",
    "        fim_de_jogo = True\n",
    "\n",
    "    if fim_de_jogo:\n",
    "        desenhar_pa(program, fim_de_jogo=True)\n",
    "\n",
    "    glfw.swap_buffers(window)\n",
    "\n",
    "glfw.terminate()\n"
   ]
  }
 ],
 "metadata": {
  "colab": {
   "provenance": [],
   "toc_visible": true
  },
  "finalized": {
   "timestamp": 1583114796072,
   "trusted": true
  },
  "kernelspec": {
   "display_name": "Python 3",
   "language": "python",
   "name": "python3"
  },
  "language_info": {
   "codemirror_mode": {
    "name": "ipython",
    "version": 3
   },
   "file_extension": ".py",
   "mimetype": "text/x-python",
   "name": "python",
   "nbconvert_exporter": "python",
   "pygments_lexer": "ipython3",
   "version": "3.8.10"
  },
  "vscode": {
   "interpreter": {
    "hash": "916dbcbb3f70747c44a77c7bcd40155683ae19c65e1c03b4aa3499c5328201f1"
   }
  }
 },
 "nbformat": 4,
 "nbformat_minor": 4
}
