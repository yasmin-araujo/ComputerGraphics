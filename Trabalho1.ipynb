{
 "cells": [
  {
   "cell_type": "markdown",
   "metadata": {
    "id": "9yNkDC5Cm9E6"
   },
   "source": [
    "# Trabalho 1\n",
    "\n",
    "11218813 Bruna Magrini da Cruz<br>\n",
    "11218809 Flavio Salles<br>\n",
    "11219004 Yasmin Osajima de Araujo"
   ]
  },
  {
   "cell_type": "markdown",
   "metadata": {
    "id": "M5pgqttPnUXN",
    "jp-MarkdownHeadingCollapsed": true,
    "tags": []
   },
   "source": [
    "# Bibliotecas"
   ]
  },
  {
   "cell_type": "code",
   "execution_count": 1,
   "metadata": {
    "colab": {
     "base_uri": "https://localhost:8080/"
    },
    "id": "tFbbJm8anEAh",
    "outputId": "a5a7d1ab-cfab-4c91-c3a8-1da2e9d2de6e"
   },
   "outputs": [
    {
     "name": "stdout",
     "output_type": "stream",
     "text": [
      "Requirement already satisfied: glfw in c:\\users\\yasmi\\appdata\\local\\packages\\pythonsoftwarefoundation.python.3.10_qbz5n2kfra8p0\\localcache\\local-packages\\python310\\site-packages (2.5.7)Note: you may need to restart the kernel to use updated packages.\n",
      "\n",
      "Requirement already satisfied: PyOpenGL in c:\\users\\yasmi\\appdata\\local\\packages\\pythonsoftwarefoundation.python.3.10_qbz5n2kfra8p0\\localcache\\local-packages\\python310\\site-packages (3.1.6)\n",
      "Note: you may need to restart the kernel to use updated packages.\n"
     ]
    }
   ],
   "source": [
    "%pip install glfw\n",
    "%pip install PyOpenGL\n"
   ]
  },
  {
   "cell_type": "code",
   "execution_count": 2,
   "metadata": {
    "id": "1iFK0co4m9E8"
   },
   "outputs": [],
   "source": [
    "import glfw\n",
    "from OpenGL.GL import *\n",
    "import OpenGL.GL.shaders\n",
    "import numpy as np\n",
    "import math\n"
   ]
  },
  {
   "cell_type": "markdown",
   "metadata": {
    "id": "--tZ6pb1m9E-",
    "jp-MarkdownHeadingCollapsed": true,
    "tags": []
   },
   "source": [
    "# Janela"
   ]
  },
  {
   "cell_type": "code",
   "execution_count": 3,
   "metadata": {
    "colab": {
     "base_uri": "https://localhost:8080/"
    },
    "id": "lpDklCUqm9E_",
    "outputId": "3373d60c-35ae-48cf-890b-143ead1a0984"
   },
   "outputs": [],
   "source": [
    "glfw.init()\n",
    "glfw.window_hint(glfw.VISIBLE, glfw.FALSE)\n",
    "window = glfw.create_window(\n",
    "    1020, 900, \"Trabalho 1 - Jardim do ICMC\", None, None)\n",
    "glfw.make_context_current(window)\n"
   ]
  },
  {
   "cell_type": "markdown",
   "metadata": {
    "id": "G7jYYliAoH9O",
    "jp-MarkdownHeadingCollapsed": true,
    "tags": []
   },
   "source": [
    "# GLSL"
   ]
  },
  {
   "cell_type": "markdown",
   "metadata": {},
   "source": [
    "Aqui, utilizamos o GLSL para definir o Vertex Shader (processamento dos vértices individuais) e Fragment Shader (processamento das cores dos pixels)."
   ]
  },
  {
   "cell_type": "code",
   "execution_count": 4,
   "metadata": {
    "id": "HbT7Qebdm9FB"
   },
   "outputs": [],
   "source": [
    "# Recebe as duas coordenadas de um ponto e a matriz de transformação\n",
    "vertex_code = \"\"\"\n",
    "        attribute vec2 position;\n",
    "        uniform mat4 mat_transformation;\n",
    "        void main(){\n",
    "            gl_Position = mat_transformation * vec4(position,0.0,1.0);\n",
    "        }\n",
    "        \"\"\"\n",
    "\n",
    "# Recebe os dados de cor do programa\n",
    "fragment_code = \"\"\"\n",
    "        uniform vec4 color;\n",
    "        void main(){\n",
    "            gl_FragColor = color;\n",
    "        }\n",
    "        \"\"\"\n"
   ]
  },
  {
   "cell_type": "markdown",
   "metadata": {
    "id": "uwiGrKmwoTLA",
    "jp-MarkdownHeadingCollapsed": true,
    "tags": []
   },
   "source": [
    "# Compilação e Linkagem"
   ]
  },
  {
   "cell_type": "markdown",
   "metadata": {
    "id": "1ljEftllm9FF",
    "jp-MarkdownHeadingCollapsed": true,
    "tags": []
   },
   "source": [
    "Requisitando slot para a GPU para os programas *Vertex Shader* e *Fragment Shader*, associando o código-fonte aos slots solicitados e compilando ambos shaders."
   ]
  },
  {
   "cell_type": "code",
   "execution_count": 5,
   "metadata": {
    "id": "9zY3tpRvm9FH"
   },
   "outputs": [],
   "source": [
    "program = glCreateProgram()\n",
    "vertex = glCreateShader(GL_VERTEX_SHADER)\n",
    "fragment = glCreateShader(GL_FRAGMENT_SHADER)\n",
    "\n",
    "glShaderSource(vertex, vertex_code)\n",
    "glShaderSource(fragment, fragment_code)\n",
    "\n",
    "# Compilando o Vertex Shader\n",
    "glCompileShader(vertex)\n",
    "if not glGetShaderiv(vertex, GL_COMPILE_STATUS):\n",
    "    error = glGetShaderInfoLog(vertex).decode()\n",
    "    print(error)\n",
    "    raise RuntimeError(\"Erro de compilacao do Vertex Shader\")\n",
    "\n",
    "# Compilando o Fragment Shader\n",
    "glCompileShader(fragment)\n",
    "if not glGetShaderiv(fragment, GL_COMPILE_STATUS):\n",
    "    error = glGetShaderInfoLog(fragment).decode()\n",
    "    print(error)\n",
    "    raise RuntimeError(\"Erro de compilacao do Fragment Shader\")\n"
   ]
  },
  {
   "cell_type": "markdown",
   "metadata": {},
   "source": [
    "Em seguida, associando os programas compilados ao programa principal e linkando o programa."
   ]
  },
  {
   "cell_type": "code",
   "execution_count": 6,
   "metadata": {},
   "outputs": [],
   "source": [
    "glAttachShader(program, vertex)\n",
    "glAttachShader(program, fragment)\n",
    "\n",
    "# Compilando o programa\n",
    "glLinkProgram(program)\n",
    "if not glGetProgramiv(program, GL_LINK_STATUS):\n",
    "    print(glGetProgramInfoLog(program))\n",
    "    raise RuntimeError('Linking error')\n",
    "\n",
    "# Definindo o programa como o default\n",
    "glUseProgram(program)\n"
   ]
  },
  {
   "cell_type": "markdown",
   "metadata": {
    "id": "SbrJ2EYHoaLS"
   },
   "source": [
    "# Definição de Elementos"
   ]
  },
  {
   "cell_type": "markdown",
   "metadata": {},
   "source": [
    "Em seguida, são definidos os vértices da cada objeto: pá, canteiro e as 5 flores."
   ]
  },
  {
   "cell_type": "code",
   "execution_count": 7,
   "metadata": {},
   "outputs": [],
   "source": [
    "def get_vertices_circulo(x_center, y_center, num_vertices, radius):\n",
    "    circulo = np.zeros(num_vertices, [(\"position\", np.float32, 2)])\n",
    "    pi = np.pi\n",
    "    angle = 0.0\n",
    "    for counter in range(num_vertices):\n",
    "        angle += 2*pi/num_vertices\n",
    "        x = math.cos(angle)*radius + x_center\n",
    "        y = math.sin(angle)*radius + y_center\n",
    "        circulo[counter] = [x, y]\n",
    "    return circulo\n",
    "\n",
    "\n",
    "def get_vertices_pa():\n",
    "    pa = np.zeros(12, [(\"position\", np.float32, 2)])\n",
    "    pa['position'] = [\n",
    "        (0.033, 0.5), (0.033, 0.513), (-0.033, 0.5), (-0.033, 0.513),\n",
    "        (0.015, 0.1), (0.015, 0.5), (-0.015, 0.1), (-0.015, 0.5),\n",
    "        (0.1, 0.1), (0.1, 0.0), (-0.1, 0.1), (-0.1, 0.0)\n",
    "    ]\n",
    "    pa = np.append(pa, get_vertices_circulo(0, 0, 32, 0.1))\n",
    "    return pa\n",
    "\n",
    "\n",
    "def get_vertices_flor4():\n",
    "    flor = np.zeros(40, [(\"position\", np.float32, 2)])\n",
    "    flor['position'] = [\n",
    "        # Pétala 1\n",
    "        (0, 0), (0.3, -0.1), (0.4, 0), (0.3, 0.1), (0, 0),\n",
    "        # Pétala 2\n",
    "        (0, 0), (0.29, 0.15), (0.3, 0.3), (0.15, 0.29), (0, 0),\n",
    "        # Pétala 3\n",
    "        (0, 0), (0.1, 0.3), (0, 0.4), (-0.1, 0.3), (0, 0),\n",
    "        # Pétala 4\n",
    "        (0, 0), (-0.15, 0.29), (-0.3, 0.3), (-0.29, 0.15), (0, 0),\n",
    "        # Pétala 5\n",
    "        (0, 0), (-0.3, 0.1), (-0.4, 0), (-0.3, -0.1), (0, 0),\n",
    "        # Pétala 6\n",
    "        (0, 0), (-0.29, -0.15), (-0.3, -0.3), (-0.15, -0.29), (0, 0),\n",
    "        # Pétala 7\n",
    "        (0, 0), (-0.1, -0.3), (0, -0.4), (0.1, -0.3), (0, 0),\n",
    "        # Pétala 8\n",
    "        (0, 0), (0.15, -0.29), (0.3, -0.3), (0.29, -0.15), (0, 0),\n",
    "    ]\n",
    "    # Meio\n",
    "    flor = np.append(flor, get_vertices_circulo(0, 0, 32, 0.2))\n",
    "    return flor\n"
   ]
  },
  {
   "cell_type": "code",
   "execution_count": 8,
   "metadata": {
    "id": "26upvfGAm9FN"
   },
   "outputs": [],
   "source": [
    "# No total, 154 pontos serão definidos, cada um usando 2 coordenadas\n",
    "vertices = np.zeros(154, [(\"position\", np.float32, 2)])\n",
    "\n",
    "# Todos os pontos são definidos/adicionados na variável de vertices\n",
    "vertices['position'] = [\n",
    "    # -------------- Flor 1 (0 - 21) --------------#\n",
    "    # Meio\n",
    "    (-0.01, +0.1), (+0.08, +0.02), (-0.08, 0), (+0.02, -0.07),\n",
    "    # Petala 1\n",
    "    (-0.01, +0.1), (+0.16, +0.29), (-0.13, +0.32),\n",
    "    # Petala 2\n",
    "    (+0.28, +0.29), (+0.04, +0.05), (+0.31, +0.07),\n",
    "    # Petala 3\n",
    "    (+0.33, -0.06), (+0.06, -0.03), (+0.2, -0.28),\n",
    "    # Petala 4\n",
    "    (+0.02, -0.07), (-0.07, -0.24), (+0.13, -0.31),\n",
    "    # Petala 5\n",
    "    (-0.05, -0.03), (-0.2, -0.25), (-0.34, -0.07),\n",
    "    # Petala 6\n",
    "    (-0.36, +0.06), (-0.05, +0.05), (-0.2, +0.2),\n",
    "\n",
    "    # -------------- Flor 2 (22 - 70) --------------#\n",
    "    # Meio\n",
    "    (0, +0.1), (+0.08, +0.05), (+0.08, -0.04), (0, -0.09),\n",
    "    (-0.08, -0.04), (-0.08, +0.05), (0, +0.1),\n",
    "    # Petala 1\n",
    "    (0, +0.1), (0, +0.19), (+0.08, +0.24), (+0.16, +0.19),\n",
    "    (+0.16, +0.1), (+0.08, +0.05), (0, +0.1),\n",
    "    # Petala 2\n",
    "    (+0.08, +0.05), (+0.16, +0.1), (+0.24, +0.06), (+0.24, -0.04),\n",
    "    (+0.16, -0.09), (+0.08, -0.04), (+0.08, +0.05),\n",
    "    # Petala 3\n",
    "    (+0.08, -0.04), (+0.16, -0.09), (+0.16, -0.18), (+0.08, -0.23),\n",
    "    (0, -0.18), (0, -0.09), (+0.08, -0.04),\n",
    "    # Petala 4\n",
    "    (0, -0.09), (0, -0.18), (-0.08, -0.22), (-0.16, -0.18),\n",
    "    (-0.16, -0.09), (-0.08, -0.04), (0, -0.09),\n",
    "    # Petala 5\n",
    "    (-0.08, -0.04), (-0.16, -0.09), (-0.24, -0.04), (-0.24, +0.05),\n",
    "    (-0.16, +0.1), (-0.08, +0.05), (-0.08, -0.04),\n",
    "    # Petala 6\n",
    "    (-0.08, +0.05), (-0.16, +0.1), (-0.16, +0.19), (-0.08, +0.24),\n",
    "    (0, +0.19), (0, +0.1), (-0.08, +0.05),\n",
    "\n",
    "    # -------------- Flor 3 (71 - 113) --------------#\n",
    "    # Meio\n",
    "    (0, +0.1), (+0.07, +0.06), (+0.07, -0.02), (0, -0.06),\n",
    "    (-0.07, -0.02), (-0.07, +0.06), (0, +0.1),\n",
    "    # Petala 1\n",
    "    (+0.01, +0.12), (+0.03, +0.2), (+0.11, +0.2),\n",
    "    (+0.14, +0.13), (+0.08, 0.08), (+0.01, +0.12),\n",
    "    # Petala 2\n",
    "    (+0.09, +0.06), (+0.17, +0.09), (+0.21, +0.02),\n",
    "    (+0.17, -0.04), (+0.09, -0.02), (+0.09, +0.06),\n",
    "    # Petala 3\n",
    "    (+0.09, -0.04), (+0.15, -0.09), (+0.12, -0.17),\n",
    "    (+0.03, -0.16), (+0.01, -0.08), (+0.09, -0.04),\n",
    "    # Petala 4\n",
    "    (-0.01, -0.08), (-0.03, -0.17), (-0.11, -0.17),\n",
    "    (-0.15, -0.1), (-0.08, -0.04), (-0.01, -0.08),\n",
    "    # Petala 5\n",
    "    (-0.09, -0.02), (-0.18, -0.05), (-0.22, +0.02),\n",
    "    (-0.17, +0.09), (-0.09, +0.06), (-0.09, -0.02),\n",
    "    # Petala 6\n",
    "    (-0.09, +0.07), (-0.15, +0.13), (-0.11, +0.21),\n",
    "    (-0.03, +0.2), (-0.01, 0.11), (-0.09, +0.07),\n",
    "\n",
    "    # -------------- Canteiro (114 - 153) --------------#\n",
    "    # Borda\n",
    "    (-0.63, -0.63), (-0.63, 0.63), (0.63, -0.63), (0.63, 0.63),\n",
    "    # Fundo\n",
    "    (-0.6, -0.6), (-0.6, 0.6), (0.6, -0.6), (0.6, 0.6),\n",
    "    # Padrão - 8 quadrados\n",
    "    (-0.6, -0.6), (-0.6, -0.3), (-0.3, -0.6), (-0.3, -0.3),\n",
    "    (-0.6, 0.0), (-0.6, 0.3), (-0.3, 0.0), (-0.3, 0.3),\n",
    "    (-0.3, -0.3), (-0.3, 0.0), (0.0, -0.3), (0.0, 0.0),\n",
    "    (-0.3, 0.3), (-0.3, 0.6), (0.0, 0.3), (0.0, 0.6),\n",
    "    (0.0, -0.6), (0.0, -0.3), (0.3, -0.6), (0.3, -0.3),\n",
    "    (0.0, 0.0), (0.0, 0.3), (0.3, 0.0), (0.3, 0.3),\n",
    "    (0.3, -0.3), (0.3, 0.0), (0.6, -0.3), (0.6, 0.0),\n",
    "    (0.3, 0.3), (0.3, 0.6), (0.6, 0.3), (0.6, 0.6),\n",
    "\n",
    "]\n",
    "\n",
    "# -------------- Flor 4 (154-313) --------------------#\n",
    "vertices = np.append(vertices, get_vertices_circulo(0.1, 0.1, 32, 0.1))\n",
    "vertices = np.append(vertices, get_vertices_circulo(0.1, -0.1, 32, 0.1))\n",
    "vertices = np.append(vertices, get_vertices_circulo(-0.1, -0.1, 32, 0.1))\n",
    "vertices = np.append(vertices, get_vertices_circulo(-0.1, 0.1, 32, 0.1))\n",
    "vertices = np.append(vertices, get_vertices_circulo(0, 0, 32, 0.1))\n",
    "\n",
    "# -------------- Pá (314 - 357) --------------------#\n",
    "vertices = np.append(vertices, get_vertices_pa())\n",
    "\n",
    "# -------------- Flor 5 (358 - 429) --------------------#\n",
    "vertices = np.append(vertices, get_vertices_flor4())\n"
   ]
  },
  {
   "cell_type": "code",
   "execution_count": 9,
   "metadata": {},
   "outputs": [],
   "source": [
    "# Variáveis que definem o inicio de cada objeto no vetor de vértices\n",
    "OFFSET_FLOR_1 = 0\n",
    "OFFSET_FLOR_2 = 22\n",
    "OFFSET_FLOR_3 = 71\n",
    "OFFSET_CANTEIRO = 114\n",
    "OFFSET_FLOR_4 = 154\n",
    "OFFSET_PA = 314\n",
    "OFFSET_FLOR_5 = 358\n"
   ]
  },
  {
   "cell_type": "markdown",
   "metadata": {},
   "source": [
    "# Transmitindo dados da CPU para a GPU"
   ]
  },
  {
   "cell_type": "markdown",
   "metadata": {},
   "source": [
    "Nesse momento, o *Vertex* e *Fragment Shaders* estão compilados para que a GPU possa processá-los.\n",
    "Por outro lado, as informações de vértices geralmente estão na CPU e devem ser transmitidas para a GPU."
   ]
  },
  {
   "cell_type": "markdown",
   "metadata": {
    "id": "Atx-tF6im9FO"
   },
   "source": [
    "Requisita um slot, envia o contéudo da variável ```vertices```  e associa as variáveis do programa GLSL (os shaders) com os dados."
   ]
  },
  {
   "cell_type": "code",
   "execution_count": 10,
   "metadata": {
    "id": "8Tev4mxfm9FP"
   },
   "outputs": [],
   "source": [
    "# Requisita um buffer na GPU\n",
    "buffer = glGenBuffers(1)\n",
    "glBindBuffer(GL_ARRAY_BUFFER, buffer)\n",
    "\n",
    "# Envia conteúdo da variável para o buffer\n",
    "glBufferData(GL_ARRAY_BUFFER, vertices.nbytes, vertices, GL_DYNAMIC_DRAW)\n",
    "glBindBuffer(GL_ARRAY_BUFFER, buffer)\n",
    "\n",
    "stride = vertices.strides[0]  # Byte Inicial\n",
    "offset = ctypes.c_void_p(0)  # Offset dos dados\n",
    "\n",
    "# A variável loc contém a localização da variável position (que guarda as coordenadas dos vértices)\n",
    "loc = glGetAttribLocation(program, \"position\")\n",
    "# Definindo a variavel no Vertex Shader\n",
    "glEnableVertexAttribArray(loc)\n",
    "\n",
    "# Indicamos a GPU onde está o conteúdo (via posições stride/offsite) para a variável position\n",
    "# Também definimos que são duas coordenadas, o tipo (GL_FLOAT) e que não deve ser normalizada (False)\n",
    "glVertexAttribPointer(loc, 2, GL_FLOAT, False, stride, offset)\n"
   ]
  },
  {
   "cell_type": "markdown",
   "metadata": {},
   "source": [
    "Pegando a localização da variável de cor para que possa ser alterado."
   ]
  },
  {
   "cell_type": "code",
   "execution_count": 11,
   "metadata": {
    "id": "Binix2wxm9FS"
   },
   "outputs": [],
   "source": [
    "loc_color = glGetUniformLocation(program, \"color\")\n"
   ]
  },
  {
   "cell_type": "markdown",
   "metadata": {
    "id": "4OOVZ0hsm9FS"
   },
   "source": [
    "# Eventos do Teclado"
   ]
  },
  {
   "cell_type": "markdown",
   "metadata": {},
   "source": [
    "Abaixo é definido as variáveis de controle do jogo."
   ]
  },
  {
   "cell_type": "code",
   "execution_count": 12,
   "metadata": {},
   "outputs": [],
   "source": [
    "# Armazena o offset tx e ty de cada flor\n",
    "offset_translacao = np.array([[0, 0, 0, 0, 0],\n",
    "                              [0, 0, 0, 0, 0]], dtype=float)\n",
    "# Armazena o fator de escala sx e sy de cada flor\n",
    "fator_escala = np.array([[0.4, 0.5, 0.5, 0.5, 0.3],\n",
    "                         [0.4, 0.5, 0.5, 0.5, 0.3]], dtype=float)\n",
    "# Armazena o ângulo de rotação de cada flor\n",
    "theta_rotacao = np.array([0, 0, 0, 0, 0], dtype=float)\n",
    "\n",
    "# Para cada flor, identifica se ela já foi plantada pelo usuário\n",
    "flor_plantada = np.array([False, False, False, False, False])\n",
    "\n",
    "# Indica qual a flor que o usuário tem selecionada\n",
    "flor_atual = 0\n",
    "\n",
    "# Informa se as 5 flores foram plantadas\n",
    "fim_de_jogo = False\n"
   ]
  },
  {
   "cell_type": "markdown",
   "metadata": {},
   "source": [
    "Em seguida, é definido os comandos que o usuário pode realizar e seus efeitos para o estado do jogo."
   ]
  },
  {
   "cell_type": "code",
   "execution_count": 13,
   "metadata": {
    "id": "leszdTP7m9FT"
   },
   "outputs": [],
   "source": [
    "# Distância que as flores devem manter da borda do canteiro\n",
    "MARGEM_BORDA = 0.15\n",
    "\n",
    "\n",
    "def key_event(window, key, scancode, action, mods):\n",
    "    global offset_translacao, fator_escala, theta_rotacao, flor_atual, flor_plantada\n",
    "    margem_borda = 0.15\n",
    "\n",
    "    # Transladar com as setas\n",
    "    if key == 265 and not flor_plantada[flor_atual]:  # Cima\n",
    "        if offset_translacao[1][flor_atual] + 0.01 < vertices[115][0][1] - MARGEM_BORDA:\n",
    "            offset_translacao[1][flor_atual] += 0.01\n",
    "    if key == 264 and not flor_plantada[flor_atual]:  # Baixo\n",
    "        if offset_translacao[1][flor_atual] - 0.01 > vertices[114][0][1] + MARGEM_BORDA:\n",
    "            offset_translacao[1][flor_atual] -= 0.01\n",
    "    if key == 263 and not flor_plantada[flor_atual]:  # Esquerda\n",
    "        if offset_translacao[0][flor_atual] - 0.01 > vertices[114][0][0] + MARGEM_BORDA:\n",
    "            offset_translacao[0][flor_atual] -= 0.01\n",
    "    if key == 262 and not flor_plantada[flor_atual]:  # Direita\n",
    "        if offset_translacao[0][flor_atual] + 0.01 < vertices[115][0][1] - MARGEM_BORDA:\n",
    "            offset_translacao[0][flor_atual] += 0.01\n",
    "\n",
    "    # Escalar com as teclas + e -\n",
    "    # Aumenta\n",
    "    if (key == 334 or key == 61) and fator_escala[0][flor_atual] < 1 and not flor_plantada[flor_atual]:\n",
    "        fator_escala[0][flor_atual] += 0.01\n",
    "        fator_escala[1][flor_atual] += 0.01\n",
    "    # Diminui\n",
    "    if (key == 333 or key == 45) and fator_escala[0][flor_atual] > 0.15 and not flor_plantada[flor_atual]:\n",
    "        fator_escala[0][flor_atual] -= 0.01\n",
    "        fator_escala[1][flor_atual] -= 0.01\n",
    "\n",
    "    # Rotacionar com as teclas < e >\n",
    "    if key == 44 and not flor_plantada[flor_atual]:  # Anti-horário\n",
    "        theta_rotacao[flor_atual] += 0.1\n",
    "    if key == 46 and not flor_plantada[flor_atual]:  # Horário\n",
    "        theta_rotacao[flor_atual] -= 0.1\n",
    "\n",
    "    # Alterar entre as flores, utilizando as teclas de 1 até 4\n",
    "    if key == 49 or key == 321:\n",
    "        flor_atual = 0\n",
    "    elif key == 50 or key == 322:\n",
    "        flor_atual = 1\n",
    "    elif key == 51 or key == 323:\n",
    "        flor_atual = 2\n",
    "    elif key == 52 or key == 324:\n",
    "        flor_atual = 3\n",
    "    elif key == 53 or key == 325:\n",
    "        flor_atual = 4\n",
    "\n",
    "    # Fixar flores na tela\n",
    "    if key == 257:  # Enter\n",
    "        flor_plantada[flor_atual] = True\n",
    "\n",
    "\n",
    "glfw.set_key_callback(window, key_event)\n"
   ]
  },
  {
   "cell_type": "markdown",
   "metadata": {},
   "source": [
    "Definindo uma função genérica para gerar a matriz de transformação das flores de acordo com as variáveis modificadas pelos eventos do teclado:"
   ]
  },
  {
   "cell_type": "code",
   "execution_count": 14,
   "metadata": {},
   "outputs": [],
   "source": [
    "def cria_matriz_transformacao(index=flor_atual, transladar=True, rotacionar=True, escalar=True):\n",
    "    t_x = offset_translacao[0][index] if transladar else 1\n",
    "    t_y = offset_translacao[1][index] if transladar else 1\n",
    "    s_x = fator_escala[0][index] if escalar else 1\n",
    "    s_y = fator_escala[1][index] if escalar else 1\n",
    "    th = theta_rotacao[index] if rotacionar else 1\n",
    "\n",
    "    return np.array([math.cos(th)*s_x, -math.sin(th)*s_y, 0.0, t_x,\n",
    "                     math.sin(th)*s_x, math.cos(th)*s_y, 0.0, t_y,\n",
    "                     0.0, 0.0, 1.0, 0.0,\n",
    "                     0.0, 0.0, 0.0, 1.0], np.float32)\n"
   ]
  },
  {
   "cell_type": "markdown",
   "metadata": {
    "id": "TmLA39KBop0h"
   },
   "source": [
    "# Execução"
   ]
  },
  {
   "cell_type": "markdown",
   "metadata": {},
   "source": [
    "Exibindo a janela."
   ]
  },
  {
   "cell_type": "code",
   "execution_count": 15,
   "metadata": {},
   "outputs": [],
   "source": [
    "glfw.show_window(window)\n"
   ]
  },
  {
   "cell_type": "markdown",
   "metadata": {},
   "source": [
    "### Objetos\n",
    "\n",
    "Aqui é definido como cada objeto deve ser desenhado, utilizando a matriz de transformação correspondente e as cores desejadas."
   ]
  },
  {
   "cell_type": "code",
   "execution_count": 16,
   "metadata": {},
   "outputs": [],
   "source": [
    "def desenhar_canteiro(program):\n",
    "    matriz_canteiro = np.array([1.0, 0.0, 0.0, 0.0,\n",
    "                                0.0, 1.0, 0.0, 0.0,\n",
    "                                0.0, 0.0, 1.0, 0.0,\n",
    "                                0.0, 0.0, 0.0, 1.0], np.float32)\n",
    "    loc = glGetUniformLocation(program, \"mat_transformation\")\n",
    "    glUniformMatrix4fv(loc, 1, GL_TRUE, matriz_canteiro)\n",
    "\n",
    "    offset = OFFSET_CANTEIRO\n",
    "    # Borda\n",
    "    glUniform4f(loc_color, 0.20, 0.11, 0.03, 1.0)\n",
    "    glDrawArrays(GL_TRIANGLE_STRIP, offset, 4)\n",
    "    offset += 4\n",
    "    # Fundo\n",
    "    glUniform4f(loc_color, 0.38, 0.22, 0.07, 1.0)\n",
    "    glDrawArrays(GL_TRIANGLE_STRIP, offset, 4)\n",
    "    offset += 4\n",
    "    # Padrao\n",
    "    for i in range(8):\n",
    "        glUniform4f(loc_color, 0.38, 0.26, 0.07, 1.0)\n",
    "        glDrawArrays(GL_TRIANGLE_STRIP, offset, 4)\n",
    "        offset += 4\n",
    "\n",
    "\n",
    "def desenhar_flor0():\n",
    "    offset = OFFSET_FLOR_1\n",
    "    # Meio (Amarelo)\n",
    "    glUniform4f(loc_color, 1, 1, 0, 1.0)\n",
    "    glDrawArrays(GL_TRIANGLE_STRIP, offset, 4)\n",
    "    offset += 4\n",
    "\n",
    "    # Petalas (Brancas)\n",
    "    for i in range(6):\n",
    "        glUniform4f(loc_color, 1, 1, 1, 1.0)\n",
    "        glDrawArrays(GL_TRIANGLE_STRIP, offset, 3)\n",
    "        offset += 3\n",
    "\n",
    "\n",
    "def desenhar_flor1():\n",
    "    offset = OFFSET_FLOR_2\n",
    "    glUniform4f(loc_color, 0.41, 0.35, 0.80, 1.0)\n",
    "    glDrawArrays(GL_TRIANGLE_FAN, offset, 7)\n",
    "    offset += 7\n",
    "\n",
    "    for i in range(3):\n",
    "        glUniform4f(loc_color, 0.28, 0.24, 0.54, 1.0)\n",
    "        glDrawArrays(GL_TRIANGLE_FAN, offset, 7)\n",
    "        offset += 7\n",
    "        glUniform4f(loc_color, 1, 1, 1, 1.0)\n",
    "        glDrawArrays(GL_TRIANGLE_FAN, offset, 7)\n",
    "        offset += 7\n",
    "\n",
    "\n",
    "def desenhar_flor2():\n",
    "    offset = OFFSET_FLOR_3\n",
    "    glUniform4f(loc_color, 0.87, 0.19, 0.39, 1.0)\n",
    "    glDrawArrays(GL_TRIANGLE_FAN, offset, 7)\n",
    "    offset += 7\n",
    "\n",
    "    for i in range(6):\n",
    "        glUniform4f(loc_color, 0.87, 0.19, 0.39, 1.0)\n",
    "        glDrawArrays(GL_TRIANGLE_FAN, offset, 6)\n",
    "        offset += 6\n",
    "\n",
    "\n",
    "def desenhar_flor3():\n",
    "    offset = OFFSET_FLOR_4\n",
    "    for i in range(4):\n",
    "        glUniform4f(loc_color, 0.87, 0.87, 0.0, 1.0)\n",
    "        glDrawArrays(GL_TRIANGLE_FAN, offset, 32)\n",
    "        offset += 32\n",
    "\n",
    "    glUniform4f(loc_color, 0.9, 0.9, 0.9, 1.0)\n",
    "    glDrawArrays(GL_TRIANGLE_FAN, offset, 32)\n",
    "\n",
    "\n",
    "def desenhar_flor4():\n",
    "    offset = OFFSET_FLOR_5\n",
    "    for i in range(8):\n",
    "        glUniform4f(loc_color, 1.0, 0.7, 0.1, 1.0)\n",
    "        glDrawArrays(GL_TRIANGLE_STRIP, offset, 5)\n",
    "        offset += 5\n",
    "\n",
    "    glUniform4f(loc_color, 0.25, 0.12, 0.0, 1.0)\n",
    "    glDrawArrays(GL_TRIANGLE_FAN, offset, 32)\n",
    "\n",
    "\n",
    "def desenhar_flor(program, flor):\n",
    "    loc = glGetUniformLocation(program, \"mat_transformation\")\n",
    "    matriz_flor = cria_matriz_transformacao(flor)\n",
    "    glUniformMatrix4fv(loc, 1, GL_TRUE, matriz_flor)\n",
    "\n",
    "    if flor == 0:\n",
    "        desenhar_flor0()\n",
    "    elif flor == 1:\n",
    "        desenhar_flor1()\n",
    "    elif flor == 2:\n",
    "        desenhar_flor2()\n",
    "    elif flor == 3:\n",
    "        desenhar_flor3()\n",
    "    elif flor == 4:\n",
    "        desenhar_flor4()\n",
    "\n",
    "\n",
    "def desenhar_pa(program, flor=None, fim_de_jogo=False):\n",
    "    loc = glGetUniformLocation(program, \"mat_transformation\")\n",
    "    if fim_de_jogo:\n",
    "        matriz_pa = np.array([1.0, 0.0, 0.0, 0.8,\n",
    "                              0.0, 1.0, 0.0, -0.2,\n",
    "                              0.0, 0.0, 1.0, 0.0,\n",
    "                              0.0, 0.0, 0.0, 1.0], np.float32)\n",
    "        glUniformMatrix4fv(loc, 1, GL_TRUE, matriz_pa)\n",
    "    else:\n",
    "        matriz_pa = cria_matriz_transformacao(flor, escalar=False)\n",
    "        glUniformMatrix4fv(loc, 1, GL_TRUE, matriz_pa)\n",
    "\n",
    "    offset = OFFSET_PA\n",
    "    # Cabo da pá\n",
    "    for i in range(2):\n",
    "        glUniform4f(loc_color, 0.9, 0.9, 0.9, 1.0)\n",
    "        glDrawArrays(GL_TRIANGLE_STRIP, offset, 4)\n",
    "        offset += 4\n",
    "    # Pá\n",
    "    glUniform4f(loc_color, 0.4, 0.4, 0.4, 1.0)\n",
    "    glDrawArrays(GL_TRIANGLE_STRIP, offset, 4)\n",
    "    offset += 4\n",
    "    glUniform4f(loc_color, 0.4, 0.4, 0.4, 1.0)\n",
    "    glDrawArrays(GL_TRIANGLE_FAN, offset, 32)\n",
    "    offset += 32\n"
   ]
  },
  {
   "cell_type": "markdown",
   "metadata": {
    "id": "oWU7CwKDm9FU"
   },
   "source": [
    "### Loop principal da janela."
   ]
  },
  {
   "cell_type": "code",
   "execution_count": 17,
   "metadata": {
    "id": "argp6eLKm9FU"
   },
   "outputs": [
    {
     "name": "stdout",
     "output_type": "stream",
     "text": [
      "Boas vindas ao Jardim do ICMC!\n",
      "------------------------------\n",
      "Como jardineiro, você deve plantar todas as 5 flores, utilizando as teclas de 1 a 5 para selecionar uma flor e ENTER para plantar.\n",
      "Para mover utilize as setas do teclado.\n",
      "Para escalar utilize as seguintes teclas: '+', '-'.\n",
      "Para rotacionar utilize as seguintes teclas: '<', '>'.\n",
      "Ao plantar todas as flores, você terá ajudado na construção do Jardim do ICMC.\n",
      "------------------------------\n",
      "Parabéns!!! Que lindo canteiro ^^\n"
     ]
    }
   ],
   "source": [
    "print(\"Boas vindas ao Jardim do ICMC!\")\n",
    "print(\"------------------------------\")\n",
    "print(\"Como jardineiro, você deve plantar todas as 5 flores, utilizando as teclas de 1 a 5 para selecionar uma flor e ENTER para plantar.\")\n",
    "print(\"Para mover utilize as setas do teclado.\")\n",
    "print(\"Para escalar utilize as seguintes teclas: '+', '-'.\")\n",
    "print(\"Para rotacionar utilize as seguintes teclas: '<', '>'.\")\n",
    "print(\"Ao plantar todas as flores, você terá ajudado na construção do Jardim do ICMC.\")\n",
    "print(\"------------------------------\")\n",
    "\n",
    "while not glfw.window_should_close(window):\n",
    "    glfw.poll_events()\n",
    "\n",
    "    # Definindo a cor de fundo\n",
    "    glClearColor(0.45, 0.59, 0.23, 1.0)\n",
    "    glClear(GL_COLOR_BUFFER_BIT)\n",
    "\n",
    "    desenhar_canteiro(program)\n",
    "\n",
    "    def desenhar_plantando_flor(flor):\n",
    "        # A flor vai ser desenhada na tela caso ela seja a flor selecionada pelo usuario (flor atual) ou caso ela já tenha sido plantada\n",
    "        if flor_atual == flor or flor_plantada[flor]:\n",
    "            # Caso a flor seja a atual e ainda não tenha sido plantada, a pá deve seguir ela\n",
    "            if flor_atual == flor and not flor_plantada[flor]:\n",
    "                desenhar_pa(program, flor=flor)\n",
    "            desenhar_flor(program, flor)\n",
    "\n",
    "    desenhar_plantando_flor(0)\n",
    "    desenhar_plantando_flor(1)\n",
    "    desenhar_plantando_flor(2)\n",
    "    desenhar_plantando_flor(3)\n",
    "    desenhar_plantando_flor(4)\n",
    "\n",
    "    if np.sum(flor_plantada) == 5 and fim_de_jogo == False:\n",
    "        print(\"Parabéns!!! Que lindo canteiro ^^\")\n",
    "        fim_de_jogo = True\n",
    "\n",
    "    if fim_de_jogo:\n",
    "        desenhar_pa(program, fim_de_jogo=True)\n",
    "\n",
    "    glfw.swap_buffers(window)\n",
    "\n",
    "glfw.terminate()\n"
   ]
  }
 ],
 "metadata": {
  "colab": {
   "provenance": [],
   "toc_visible": true
  },
  "finalized": {
   "timestamp": 1583114796072,
   "trusted": true
  },
  "kernelspec": {
   "display_name": "Python 3",
   "language": "python",
   "name": "python3"
  },
  "language_info": {
   "codemirror_mode": {
    "name": "ipython",
    "version": 3
   },
   "file_extension": ".py",
   "mimetype": "text/x-python",
   "name": "python",
   "nbconvert_exporter": "python",
   "pygments_lexer": "ipython3",
   "version": "3.10.11"
  },
  "vscode": {
   "interpreter": {
    "hash": "916dbcbb3f70747c44a77c7bcd40155683ae19c65e1c03b4aa3499c5328201f1"
   }
  }
 },
 "nbformat": 4,
 "nbformat_minor": 4
}
